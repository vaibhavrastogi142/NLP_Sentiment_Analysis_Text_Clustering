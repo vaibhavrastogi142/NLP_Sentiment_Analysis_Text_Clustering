{
 "cells": [
  {
   "cell_type": "code",
   "execution_count": 1,
   "metadata": {},
   "outputs": [],
   "source": [
    "#importing libraries\n",
    "import numpy as np\n",
    "import pandas as pd\n",
    "import re\n",
    "\n",
    "import matplotlib.pyplot as plt\n",
    "import seaborn as sns\n",
    "\n",
    "from sklearn.feature_extraction.text import CountVectorizer, TfidfVectorizer\n",
    "from sklearn.decomposition import NMF, TruncatedSVD\n",
    "from sklearn.cluster import KMeans\n",
    "from sklearn.metrics import silhouette_score"
   ]
  },
  {
   "cell_type": "markdown",
   "metadata": {},
   "source": [
    "#### Loading, cleaning and preparing the data"
   ]
  },
  {
   "cell_type": "code",
   "execution_count": 4,
   "metadata": {},
   "outputs": [],
   "source": [
    "dfm = pd.read_csv('Hotel_Reviews_2.csv')"
   ]
  },
  {
   "cell_type": "code",
   "execution_count": 5,
   "metadata": {},
   "outputs": [],
   "source": [
    "dfm = dfm.drop_duplicates()"
   ]
  },
  {
   "cell_type": "code",
   "execution_count": null,
   "metadata": {},
   "outputs": [],
   "source": []
  },
  {
   "cell_type": "code",
   "execution_count": 6,
   "metadata": {},
   "outputs": [],
   "source": [
    "dfm_sub = dfm[['Negative_Review','neg_count','Tags']]"
   ]
  },
  {
   "cell_type": "code",
   "execution_count": 7,
   "metadata": {},
   "outputs": [
    {
     "data": {
      "text/html": [
       "<div>\n",
       "<style scoped>\n",
       "    .dataframe tbody tr th:only-of-type {\n",
       "        vertical-align: middle;\n",
       "    }\n",
       "\n",
       "    .dataframe tbody tr th {\n",
       "        vertical-align: top;\n",
       "    }\n",
       "\n",
       "    .dataframe thead th {\n",
       "        text-align: right;\n",
       "    }\n",
       "</style>\n",
       "<table border=\"1\" class=\"dataframe\">\n",
       "  <thead>\n",
       "    <tr style=\"text-align: right;\">\n",
       "      <th></th>\n",
       "      <th>Negative_Review</th>\n",
       "      <th>neg_count</th>\n",
       "      <th>Tags</th>\n",
       "    </tr>\n",
       "  </thead>\n",
       "  <tbody>\n",
       "    <tr>\n",
       "      <th>0</th>\n",
       "      <td>i am so angry that i made this post available...</td>\n",
       "      <td>0</td>\n",
       "      <td>[' Leisure trip ', ' Couple ', ' Duplex Double...</td>\n",
       "    </tr>\n",
       "    <tr>\n",
       "      <th>1</th>\n",
       "      <td>no negative</td>\n",
       "      <td>1</td>\n",
       "      <td>[' Leisure trip ', ' Couple ', ' Duplex Double...</td>\n",
       "    </tr>\n",
       "    <tr>\n",
       "      <th>2</th>\n",
       "      <td>rooms are nice but for elderly a bit difficul...</td>\n",
       "      <td>0</td>\n",
       "      <td>[' Leisure trip ', ' Family with young childre...</td>\n",
       "    </tr>\n",
       "    <tr>\n",
       "      <th>3</th>\n",
       "      <td>my room was dirty and i was afraid to walk ba...</td>\n",
       "      <td>0</td>\n",
       "      <td>[' Leisure trip ', ' Solo traveler ', ' Duplex...</td>\n",
       "    </tr>\n",
       "    <tr>\n",
       "      <th>4</th>\n",
       "      <td>you when i booked with your company on line y...</td>\n",
       "      <td>0</td>\n",
       "      <td>[' Leisure trip ', ' Couple ', ' Suite ', ' St...</td>\n",
       "    </tr>\n",
       "  </tbody>\n",
       "</table>\n",
       "</div>"
      ],
      "text/plain": [
       "                                     Negative_Review  neg_count  \\\n",
       "0   i am so angry that i made this post available...          0   \n",
       "1                                        no negative          1   \n",
       "2   rooms are nice but for elderly a bit difficul...          0   \n",
       "3   my room was dirty and i was afraid to walk ba...          0   \n",
       "4   you when i booked with your company on line y...          0   \n",
       "\n",
       "                                                Tags  \n",
       "0  [' Leisure trip ', ' Couple ', ' Duplex Double...  \n",
       "1  [' Leisure trip ', ' Couple ', ' Duplex Double...  \n",
       "2  [' Leisure trip ', ' Family with young childre...  \n",
       "3  [' Leisure trip ', ' Solo traveler ', ' Duplex...  \n",
       "4  [' Leisure trip ', ' Couple ', ' Suite ', ' St...  "
      ]
     },
     "execution_count": 7,
     "metadata": {},
     "output_type": "execute_result"
    }
   ],
   "source": [
    "dfm_sub.head()"
   ]
  },
  {
   "cell_type": "code",
   "execution_count": 14,
   "metadata": {},
   "outputs": [],
   "source": [
    "dfm_sub.rename(columns={'Negative_Review':'ReviewText',\n",
    "                          'neg_count':'labels','Tags':'tags'}, \n",
    "                 inplace=True)"
   ]
  },
  {
   "cell_type": "code",
   "execution_count": 15,
   "metadata": {},
   "outputs": [],
   "source": [
    "df = dfm_sub\n"
   ]
  },
  {
   "cell_type": "code",
   "execution_count": 16,
   "metadata": {},
   "outputs": [
    {
     "data": {
      "text/html": [
       "<div>\n",
       "<style scoped>\n",
       "    .dataframe tbody tr th:only-of-type {\n",
       "        vertical-align: middle;\n",
       "    }\n",
       "\n",
       "    .dataframe tbody tr th {\n",
       "        vertical-align: top;\n",
       "    }\n",
       "\n",
       "    .dataframe thead th {\n",
       "        text-align: right;\n",
       "    }\n",
       "</style>\n",
       "<table border=\"1\" class=\"dataframe\">\n",
       "  <thead>\n",
       "    <tr style=\"text-align: right;\">\n",
       "      <th></th>\n",
       "      <th>ReviewText</th>\n",
       "      <th>labels</th>\n",
       "      <th>tags</th>\n",
       "    </tr>\n",
       "  </thead>\n",
       "  <tbody>\n",
       "    <tr>\n",
       "      <th>0</th>\n",
       "      <td>i am so angry that i made this post available...</td>\n",
       "      <td>0</td>\n",
       "      <td>' Leisure trip ', ' Couple ', ' Duplex Double ...</td>\n",
       "    </tr>\n",
       "    <tr>\n",
       "      <th>1</th>\n",
       "      <td>no negative</td>\n",
       "      <td>1</td>\n",
       "      <td>' Leisure trip ', ' Couple ', ' Duplex Double ...</td>\n",
       "    </tr>\n",
       "    <tr>\n",
       "      <th>2</th>\n",
       "      <td>rooms are nice but for elderly a bit difficul...</td>\n",
       "      <td>0</td>\n",
       "      <td>' Leisure trip ', ' Family with young children...</td>\n",
       "    </tr>\n",
       "    <tr>\n",
       "      <th>3</th>\n",
       "      <td>my room was dirty and i was afraid to walk ba...</td>\n",
       "      <td>0</td>\n",
       "      <td>' Leisure trip ', ' Solo traveler ', ' Duplex ...</td>\n",
       "    </tr>\n",
       "    <tr>\n",
       "      <th>4</th>\n",
       "      <td>you when i booked with your company on line y...</td>\n",
       "      <td>0</td>\n",
       "      <td>' Leisure trip ', ' Couple ', ' Suite ', ' Sta...</td>\n",
       "    </tr>\n",
       "  </tbody>\n",
       "</table>\n",
       "</div>"
      ],
      "text/plain": [
       "                                          ReviewText  labels  \\\n",
       "0   i am so angry that i made this post available...       0   \n",
       "1                                        no negative       1   \n",
       "2   rooms are nice but for elderly a bit difficul...       0   \n",
       "3   my room was dirty and i was afraid to walk ba...       0   \n",
       "4   you when i booked with your company on line y...       0   \n",
       "\n",
       "                                                tags  \n",
       "0  ' Leisure trip ', ' Couple ', ' Duplex Double ...  \n",
       "1  ' Leisure trip ', ' Couple ', ' Duplex Double ...  \n",
       "2  ' Leisure trip ', ' Family with young children...  \n",
       "3  ' Leisure trip ', ' Solo traveler ', ' Duplex ...  \n",
       "4  ' Leisure trip ', ' Couple ', ' Suite ', ' Sta...  "
      ]
     },
     "execution_count": 16,
     "metadata": {},
     "output_type": "execute_result"
    }
   ],
   "source": [
    "df.head()"
   ]
  },
  {
   "cell_type": "code",
   "execution_count": 17,
   "metadata": {},
   "outputs": [
    {
     "name": "stderr",
     "output_type": "stream",
     "text": [
      "C:\\Users\\vaibh\\Anaconda3x\\lib\\site-packages\\ipykernel_launcher.py:1: SettingWithCopyWarning: \n",
      "A value is trying to be set on a copy of a slice from a DataFrame.\n",
      "Try using .loc[row_indexer,col_indexer] = value instead\n",
      "\n",
      "See the caveats in the documentation: http://pandas.pydata.org/pandas-docs/stable/indexing.html#indexing-view-versus-copy\n",
      "  \"\"\"Entry point for launching an IPython kernel.\n"
     ]
    }
   ],
   "source": [
    "df['tags'] =  df['tags'].apply(lambda x: x.replace('[','').replace(']','')) "
   ]
  },
  {
   "cell_type": "code",
   "execution_count": 18,
   "metadata": {},
   "outputs": [
    {
     "name": "stderr",
     "output_type": "stream",
     "text": [
      "C:\\Users\\vaibh\\Anaconda3x\\lib\\site-packages\\ipykernel_launcher.py:1: SettingWithCopyWarning: \n",
      "A value is trying to be set on a copy of a slice from a DataFrame.\n",
      "Try using .loc[row_indexer,col_indexer] = value instead\n",
      "\n",
      "See the caveats in the documentation: http://pandas.pydata.org/pandas-docs/stable/indexing.html#indexing-view-versus-copy\n",
      "  \"\"\"Entry point for launching an IPython kernel.\n"
     ]
    }
   ],
   "source": [
    "df['CombinedText'] = df['tags'].map(str) + df['ReviewText'].map(str)"
   ]
  },
  {
   "cell_type": "code",
   "execution_count": 19,
   "metadata": {},
   "outputs": [
    {
     "name": "stderr",
     "output_type": "stream",
     "text": [
      "C:\\Users\\vaibh\\Anaconda3x\\lib\\site-packages\\ipykernel_launcher.py:1: SettingWithCopyWarning: \n",
      "A value is trying to be set on a copy of a slice from a DataFrame.\n",
      "Try using .loc[row_indexer,col_indexer] = value instead\n",
      "\n",
      "See the caveats in the documentation: http://pandas.pydata.org/pandas-docs/stable/indexing.html#indexing-view-versus-copy\n",
      "  \"\"\"Entry point for launching an IPython kernel.\n",
      "C:\\Users\\vaibh\\Anaconda3x\\lib\\site-packages\\ipykernel_launcher.py:2: SettingWithCopyWarning: \n",
      "A value is trying to be set on a copy of a slice from a DataFrame.\n",
      "Try using .loc[row_indexer,col_indexer] = value instead\n",
      "\n",
      "See the caveats in the documentation: http://pandas.pydata.org/pandas-docs/stable/indexing.html#indexing-view-versus-copy\n",
      "  \n"
     ]
    }
   ],
   "source": [
    "df['ReviewTextLower'] = df.ReviewText\n",
    "df['ReviewTextLower'] = df.ReviewTextLower.str.lower()"
   ]
  },
  {
   "cell_type": "markdown",
   "metadata": {},
   "source": [
    "### Preparing data for modelling\n",
    "count vectorizer and tfidf"
   ]
  },
  {
   "cell_type": "code",
   "execution_count": 20,
   "metadata": {},
   "outputs": [],
   "source": [
    "count_vectorizer = CountVectorizer(ngram_range=(1, 3),  \n",
    "                                   stop_words='english', \n",
    "                                   token_pattern=\"\\\\b[a-z][a-z]+\\\\b\",\n",
    "                                   lowercase=True,\n",
    "                                   max_df = 0.6, max_features=4000)\n",
    "tfidf_vectorizer = TfidfVectorizer(ngram_range=(2, 3),  \n",
    "                                   stop_words='english', \n",
    "                                   token_pattern=\"\\\\b[a-z][a-z]+\\\\b\",\n",
    "                                   lowercase=True,\n",
    "                                   max_df = 0.6, max_features=4000)\n",
    "\n",
    "cv_data = count_vectorizer.fit_transform(df.ReviewTextLower)\n",
    "tfidf_data = tfidf_vectorizer.fit_transform(df.ReviewTextLower)"
   ]
  },
  {
   "cell_type": "code",
   "execution_count": 21,
   "metadata": {},
   "outputs": [],
   "source": [
    "# def functions for topic modelings\n",
    "def display_topics(model, feature_names, no_top_words, topic_names=None):\n",
    "    for ix, topic in enumerate(model.components_):\n",
    "        if not topic_names or not topic_names[ix]:\n",
    "            print(\"\\nTopic \", ix)\n",
    "        else:\n",
    "            print(\"\\nTopic: '\",topic_names[ix],\"'\")\n",
    "        print(\", \".join([feature_names[i]\n",
    "                        for i in topic.argsort()[:-no_top_words - 1:-1]]))\n",
    "        \n",
    "def display_topics2(model, feature_names, no_top_words=10, topic_names = None):\n",
    "    for index, topic in enumerate(model.components_):\n",
    "        if not topic_names or not topic_names[index]:\n",
    "            print(f\"\\nTopic {index}\")\n",
    "        else:\n",
    "            print(f\"\\nTopic {topic_names[index]}:\")\n",
    "        msg = \", \".join([f'{feature_names[i]} ({topic[i]:6.4f})' \n",
    "                             for i in topic.argsort()[:-no_top_words-1:-1]])\n",
    "        print(msg)"
   ]
  },
  {
   "cell_type": "markdown",
   "metadata": {},
   "source": [
    "### Instantiating and Fitting the model"
   ]
  },
  {
   "cell_type": "code",
   "execution_count": 30,
   "metadata": {},
   "outputs": [],
   "source": [
    "n_comp = 50\n",
    "lsa_tfidf = TruncatedSVD(n_components=n_comp)\n",
    "lsa_cv = TruncatedSVD(n_components=n_comp)\n",
    "nmf_tfidf = NMF(n_components=n_comp)\n",
    "nmf_cv = NMF(n_components=n_comp)\n",
    "\n",
    "lsa_tfidf_data = lsa_tfidf.fit_transform(tfidf_data)\n",
    "lsa_cv_data = lsa_cv.fit_transform(cv_data)\n",
    "nmf_tfidf_data = nmf_tfidf.fit_transform(tfidf_data)\n",
    "nmf_cv_data = nmf_cv.fit_transform(cv_data)"
   ]
  },
  {
   "cell_type": "markdown",
   "metadata": {},
   "source": [
    "### Fitting the models"
   ]
  },
  {
   "cell_type": "code",
   "execution_count": 24,
   "metadata": {},
   "outputs": [
    {
     "name": "stdout",
     "output_type": "stream",
     "text": [
      "\n",
      "Topic 0\n",
      "room small (0.9968), small room (0.0391), size room (0.0170)\n",
      "\n",
      "Topic 1\n",
      "small room (0.9959), room size (0.0212), bit small (0.0171)\n",
      "\n",
      "Topic 2\n",
      "rooms small (0.9959), small rooms (0.0432), room service (0.0290)\n",
      "\n",
      "Topic 3\n",
      "didn like (0.9758), room service (0.1738), air conditioning (0.0383)\n",
      "\n",
      "Topic 4\n",
      "room service (0.9556), air conditioning (0.1053), breakfast expensive (0.1033)\n",
      "\n",
      "Topic 5\n",
      "breakfast expensive (0.9845), air conditioning (0.0950), room bit (0.0270)\n",
      "\n",
      "Topic 6\n",
      "air conditioning (0.9636), didn work (0.0633), conditioning room (0.0570)\n",
      "\n",
      "Topic 7\n",
      "room bit (0.6182), bit small (0.6122), room bit small (0.4342)\n",
      "\n",
      "Topic 8\n",
      "small rooms (0.9944), breakfast included (0.0307), wi fi (0.0220)\n",
      "\n",
      "Topic 9\n",
      "breakfast included (0.9486), included price (0.1777), breakfast included price (0.1687)\n",
      "\n",
      "Topic 10\n",
      "wi fi (0.9765), free wi (0.0712), free wi fi (0.0711)\n",
      "\n",
      "Topic 11\n",
      "room little (0.7040), little small (0.5153), room little small (0.3999)\n",
      "\n",
      "Topic 12\n",
      "tea coffee (0.7136), facilities room (0.2712), making facilities (0.2620)\n",
      "\n",
      "Topic 13\n",
      "swimming pool (0.9697), booking com (0.1344), didn work (0.1032)\n",
      "\n",
      "Topic 14\n",
      "didn work (0.7572), booking com (0.4024), mini bar (0.2639)\n",
      "\n",
      "Topic 15\n",
      "booking com (0.7920), room size (0.1418), star hotel (0.1212)\n",
      "\n",
      "Topic 16\n",
      "mini bar (0.9022), room size (0.1752), size room (0.0854)\n",
      "\n",
      "Topic 17\n",
      "room size (0.8911), size room (0.2682), size small (0.0992)\n",
      "\n",
      "Topic 18\n",
      "size room (0.9234), size room small (0.0858), room tiny (0.0728)\n",
      "\n",
      "Topic 19\n",
      "little bit (0.7959), star hotel (0.3192), bit expensive (0.1578)\n",
      "\n",
      "Topic 20\n",
      "star hotel (0.8663), breakfast poor (0.0852), value money (0.0849)\n",
      "\n",
      "Topic 21\n",
      "quite small (0.5062), room quite (0.4595), room quite small (0.3452)\n",
      "\n",
      "Topic 22\n",
      "value money (0.6368), car park (0.4941), breakfast room (0.1942)\n",
      "\n",
      "Topic 23\n",
      "free wifi (0.5929), car park (0.2989), breakfast room (0.2201)\n",
      "\n",
      "Topic 24\n",
      "free wifi (0.5691), reception staff (0.2885), hot water (0.2351)\n"
     ]
    }
   ],
   "source": [
    "display_topics2(lsa_tfidf, tfidf_vectorizer.get_feature_names(),3)"
   ]
  },
  {
   "cell_type": "code",
   "execution_count": 26,
   "metadata": {},
   "outputs": [
    {
     "name": "stdout",
     "output_type": "stream",
     "text": [
      "\n",
      "Topic 0\n",
      "room (0.8161), hotel (0.2784), small (0.1422), breakfast (0.1244), staff (0.1167), bed (0.0959), rooms (0.0888), night (0.0860)\n",
      "\n",
      "Topic 1\n",
      "hotel (0.7201), breakfast (0.2447), staff (0.1783), negative (0.0949), rooms (0.0871), stay (0.0748), like (0.0705), didn (0.0673)\n",
      "\n",
      "Topic 2\n",
      "negative (0.9955), room (0.0415), small (0.0055), room small (0.0034), small room (0.0019), size (0.0015), double (0.0013), negative say (0.0013)\n",
      "\n",
      "Topic 3\n",
      "breakfast (0.8376), staff (0.1155), expensive (0.0883), food (0.0695), coffee (0.0686), poor (0.0666), included (0.0642), good (0.0634)\n",
      "\n",
      "Topic 4\n",
      "small (0.7524), rooms (0.3561), bed (0.1837), bathroom (0.1742), room small (0.1340), bit (0.1173), shower (0.0916), little (0.0775)\n",
      "\n",
      "Topic 5\n",
      "hotel (0.3693), breakfast (0.3382), room (0.1962), expensive (0.0456), price (0.0373), included (0.0330), star (0.0318), star hotel (0.0277)\n",
      "\n",
      "Topic 6\n",
      "bed (0.3865), didn (0.2863), shower (0.2700), bathroom (0.2308), night (0.1683), like (0.1592), water (0.1293), work (0.1050)\n",
      "\n",
      "Topic 7\n",
      "bed (0.7283), staff (0.1955), double (0.1692), small (0.1111), double bed (0.0992), beds (0.0720), single (0.0718), uncomfortable (0.0556)\n",
      "\n",
      "Topic 8\n",
      "rooms (0.6646), bed (0.2199), booking (0.1649), booked (0.1191), double (0.1038), night (0.0900), com (0.0872), booking com (0.0844)\n",
      "\n",
      "Topic 9\n",
      "didn (0.6249), small (0.3037), like (0.2447), work (0.1495), didn work (0.1146), didn like (0.1130), booking (0.1053), room small (0.0934)\n",
      "\n",
      "Topic 10\n",
      "shower (0.3094), bathroom (0.2643), booking (0.1608), water (0.1428), did (0.1164), com (0.0861), check (0.0857), breakfast (0.0853)\n",
      "\n",
      "Topic 11\n",
      "night (0.4163), booking (0.2294), check (0.2168), did (0.1941), bit (0.1834), small (0.1725), time (0.1624), day (0.1443)\n",
      "\n",
      "Topic 12\n",
      "night (0.5775), air (0.2712), staff (0.1608), noise (0.1562), noisy (0.1507), conditioning (0.1399), air conditioning (0.1396), sleep (0.1141)\n",
      "\n",
      "Topic 13\n",
      "service (0.5153), bar (0.4733), room service (0.1964), food (0.1592), coffee (0.1544), poor (0.1326), restaurant (0.1261), tea (0.1233)\n",
      "\n",
      "Topic 14\n",
      "did (0.4170), air (0.2616), water (0.2308), hot (0.2264), shower (0.2042), work (0.1873), coffee (0.1780), tea (0.1432)\n",
      "\n",
      "Topic 15\n",
      "did (0.6145), bathroom (0.3288), like (0.2299), service (0.1573), work (0.1397), air (0.1332), did work (0.1065), door (0.0901)\n",
      "\n",
      "Topic 16\n",
      "like (0.5709), coffee (0.2918), tea (0.2316), little (0.1449), just (0.1406), good (0.1333), tea coffee (0.1281), night (0.1270)\n",
      "\n",
      "Topic 17\n",
      "booking (0.4197), bar (0.4060), com (0.2444), booking com (0.2394), like (0.1716), shower (0.1653), expensive (0.1264), price (0.1235)\n",
      "\n",
      "Topic 18\n",
      "coffee (0.3803), bathroom (0.3571), tea (0.3028), little (0.2736), booking (0.1880), tea coffee (0.1722), air (0.1566), facilities (0.1476)\n",
      "\n",
      "Topic 19\n",
      "little (0.5222), bar (0.3545), check (0.1534), time (0.1340), floor (0.1235), expensive (0.0862), room little (0.0723), area (0.0710)\n",
      "\n",
      "Topic 20\n",
      "good (0.5699), little (0.3079), service (0.2109), air (0.2057), booking (0.1813), really (0.1297), conditioning (0.1142), air conditioning (0.1138)\n",
      "\n",
      "Topic 21\n",
      "little (0.4456), did (0.2601), night (0.2482), service (0.2171), didn (0.1738), shower (0.1578), work (0.1423), room service (0.0975)\n",
      "\n",
      "Topic 22\n",
      "like (0.3286), little (0.2966), service (0.2750), air (0.2241), conditioning (0.1268), air conditioning (0.1265), hot (0.1146), room service (0.1114)\n",
      "\n",
      "Topic 23\n",
      "stay (0.4241), day (0.3925), really (0.1976), reception (0.1791), just (0.1613), wasn (0.0964), water (0.0959), told (0.0904)\n",
      "\n",
      "Topic 24\n",
      "price (0.2964), check (0.2805), expensive (0.2301), wifi (0.2273), time (0.2016), stay (0.1757), poor (0.1063), free (0.0985)\n"
     ]
    }
   ],
   "source": [
    "display_topics2(lsa_cv, count_vectorizer.get_feature_names(),8)"
   ]
  },
  {
   "cell_type": "code",
   "execution_count": 31,
   "metadata": {},
   "outputs": [
    {
     "name": "stdout",
     "output_type": "stream",
     "text": [
      "\n",
      "Topic 0\n",
      "room small (7.3859), room small bed (0.1085), small bed (0.1036), size room small (0.0979), room small bathroom (0.0848), single room small (0.0757), single room (0.0738), room small price (0.0700), small room small (0.0682), breakfast room small (0.0678)\n",
      "\n",
      "Topic 1\n",
      "small room (6.6174), small room small (0.1114), small room bathroom (0.0959), room bed (0.0918), room small room (0.0885), room bathroom (0.0754), room price (0.0690), extremely small room (0.0671), room view (0.0618), room noisy (0.0617)\n",
      "\n",
      "Topic 2\n",
      "rooms small (6.1962), small price (0.0736), standard rooms (0.0720), single rooms (0.0616), small breakfast (0.0572), hotel rooms (0.0553), size rooms (0.0475), small hotel (0.0393), small people (0.0387), small expected (0.0385)\n",
      "\n",
      "Topic 3\n",
      "didn like (6.1054), thing didn like (0.2126), thing didn (0.2113), wasn didn like (0.1996), wasn didn (0.1991), didn like fact (0.1888), like fact (0.1831), didn like hotel (0.1464), like hotel (0.1428), think didn like (0.1298)\n",
      "\n",
      "Topic 4\n",
      "room service (5.9121), room service menu (0.3004), service menu (0.3003), service food (0.2764), room service food (0.2742), ordered room service (0.1668), ordered room (0.1657), room service breakfast (0.1164), service breakfast (0.1139), order room (0.1125)\n",
      "\n",
      "Topic 5\n",
      "breakfast expensive (5.9045), expensive didn (0.1015), expensive ate (0.0864), expensive went (0.0792), expensive euros (0.0673), cost breakfast (0.0517), expensive good (0.0465), small breakfast (0.0443), expensive room (0.0430), room breakfast (0.0411)\n",
      "\n",
      "Topic 6\n",
      "air conditioning (5.8109), air conditioning room (0.3383), conditioning room (0.3383), conditioning working (0.1980), air conditioning working (0.1980), room air conditioning (0.1874), room air (0.1840), air conditioning unit (0.1456), conditioning unit (0.1456), conditioning didn (0.1448)\n",
      "\n",
      "Topic 7\n",
      "room bit (5.1397), room bit small (1.8438), bit cramped (0.2221), bit tired (0.1986), bit warm (0.1800), bit dated (0.1781), room bit noisy (0.1674), bit cold (0.1659), bit bigger (0.1657), room bit cold (0.1630)\n",
      "\n",
      "Topic 8\n",
      "small rooms (5.6498), rooms poor (0.0618), extremely small (0.0611), really small (0.0592), rooms expensive (0.0583), rooms price (0.0464), poor breakfast (0.0422), rooms noisy (0.0394), hotel small (0.0391), rooms breakfast (0.0388)\n",
      "\n",
      "Topic 9\n",
      "breakfast included (5.4555), included price (1.0166), breakfast included price (0.9692), included room (0.2012), breakfast included room (0.2000), continental breakfast (0.1144), price breakfast included (0.1120), room rate (0.1050), price paid (0.1007), included rate (0.0991)\n",
      "\n",
      "Topic 10\n",
      "wi fi (5.4881), free wi (0.4001), free wi fi (0.3993), wi fi connection (0.2126), fi connection (0.2125), wi fi room (0.1416), fi room (0.1416), poor wi fi (0.1064), poor wi (0.1064), wi fi signal (0.1020)\n",
      "\n",
      "Topic 11\n",
      "room little (4.0639), little small (3.0884), room little small (2.3876), rooms little (0.3942), rooms little small (0.3526), room little bit (0.2450), little tired (0.1491), little cold (0.1296), bathroom little (0.1194), little dark (0.1189)\n",
      "\n",
      "Topic 12\n",
      "tea coffee (5.1167), coffee room (1.2599), coffee facilities (1.2065), tea coffee facilities (1.1608), tea coffee room (1.0431), coffee facilities room (0.6820), facilities room (0.3771), room tea (0.2458), room tea coffee (0.2422), tea coffee making (0.1973)\n",
      "\n",
      "Topic 13\n",
      "swimming pool (5.3639), pool small (0.2128), swimming pool small (0.1902), pool area (0.1133), pool closed (0.1029), pool cold (0.0844), pool sauna (0.0742), pool gym (0.0694), pool bit (0.0575), pool spa (0.0571)\n",
      "\n",
      "Topic 14\n",
      "didn work (5.6913), tv didn (0.5356), tv didn work (0.5316), room didn (0.4743), work properly (0.4737), didn work properly (0.4695), wifi didn (0.4308), wifi didn work (0.4284), room didn work (0.3870), didn work room (0.3597)\n",
      "\n",
      "Topic 15\n",
      "booking com (4.8296), booked booking (0.3433), booked booking com (0.3387), booking booking (0.1954), booking booking com (0.1904), hotel booking (0.1756), com hotel (0.1549), booking com hotel (0.1547), hotel booking com (0.1506), room booking (0.1104)\n",
      "\n",
      "Topic 16\n",
      "room size (5.2335), size small (0.5804), room size small (0.5641), size bed (0.0895), size bathroom (0.0639), single room (0.0533), room room (0.0475), double room (0.0454), little small (0.0411), really small (0.0381)\n",
      "\n",
      "Topic 17\n",
      "mini bar (4.9011), bar room (0.3462), mini bar room (0.3433), bar prices (0.2428), bar expensive (0.1791), water mini (0.1050), room mini bar (0.1028), room mini (0.1022), mini bar fridge (0.0970), bar fridge (0.0955)\n",
      "\n",
      "Topic 18\n",
      "size room (4.8646), size room small (0.4516), small size (0.1647), room bathroom (0.1379), room bed (0.0943), room price (0.0808), king size (0.0609), room view (0.0538), room facilities (0.0396), room room (0.0380)\n",
      "\n",
      "Topic 19\n",
      "little bit (5.3575), room little bit (0.5880), little bit small (0.5174), little bit far (0.3696), little bit expensive (0.3112), bit old (0.2986), breakfast little (0.2723), little bit noisy (0.2540), bit far (0.2331), room little (0.2311)\n",
      "\n",
      "Topic 20\n",
      "star hotel (4.8864), like star (0.2084), expect star (0.1922), expect star hotel (0.1877), like star hotel (0.1850), hotel star (0.1738), hotel room (0.1729), star hotel star (0.1094), star hotel room (0.1063), good star (0.1000)\n",
      "\n",
      "Topic 21\n",
      "quite small (3.8009), room quite (3.4413), room quite small (2.5823), rooms quite (0.5360), rooms quite small (0.4982), quite small room (0.1537), quite noisy (0.1276), bathroom quite (0.1189), quite dark (0.1188), bathroom quite small (0.1176)\n",
      "\n",
      "Topic 22\n",
      "car park (4.5227), car parking (0.1551), hotel car (0.1460), park car (0.1219), park hotel (0.0971), parking car (0.0496), parking expensive (0.0427), parking hotel (0.0419), having pay (0.0400), walk away (0.0385)\n",
      "\n",
      "Topic 23\n",
      "value money (4.7984), good value (0.7137), good value money (0.6462), poor value (0.3635), poor value money (0.3566), great value (0.1858), great value money (0.1849), better value (0.1023), better value money (0.0957), bad value (0.0862)\n",
      "\n",
      "Topic 24\n",
      "free wifi (4.8317), wifi room (0.4400), wifi slow (0.3521), free wifi room (0.3210), wifi rooms (0.2425), free wifi rooms (0.2280), wifi available (0.1274), wifi free (0.1265), wifi hotel (0.1149), wifi connection (0.0750)\n",
      "\n",
      "Topic 25\n",
      "hot water (6.6682), water shower (0.6563), hot water shower (0.5414), water room (0.3277), water morning (0.3105), hot water morning (0.3056), kettle room (0.1931), long time (0.1570), cold water (0.1483), water bathroom (0.1458)\n",
      "\n",
      "Topic 26\n",
      "reception staff (4.1865), staff rude (0.4531), staff helpful (0.3854), reception staff friendly (0.1542), staff bit (0.1488), staff little (0.1425), bar staff (0.1261), staff reception (0.1158), staff unfriendly (0.0922), staff did (0.0845)\n",
      "\n",
      "Topic 27\n",
      "breakfast room (4.3467), breakfast room small (0.3217), small breakfast (0.1788), breakfast room service (0.1562), room breakfast (0.1561), room basement (0.1525), staff breakfast (0.1364), room cramped (0.0941), room cold (0.0876), room noisy (0.0821)\n",
      "\n",
      "Topic 28\n",
      "breakfast good (5.0135), good expensive (0.1995), good value (0.1533), buffet breakfast (0.0967), english breakfast (0.0917), cooked breakfast (0.0904), good quality (0.0837), room breakfast (0.0818), continental breakfast (0.0798), scrambled eggs (0.0757)\n",
      "\n",
      "Topic 29\n",
      "bathroom small (5.7654), room bathroom (0.9711), room bathroom small (0.5668), small shower (0.2308), small bathroom small (0.1621), bedroom bathroom (0.1033), small room bathroom (0.0911), bed uncomfortable (0.0867), size bathroom (0.0843), rooms bathroom (0.0808)\n",
      "\n",
      "Topic 30\n",
      "breakfast poor (4.5709), poor quality (0.2942), breakfast poor quality (0.1916), poor breakfast (0.1406), cooked breakfast (0.1370), service breakfast (0.1176), poor value (0.0988), continental breakfast (0.0932), poor choice (0.0898), poor room (0.0825)\n",
      "\n",
      "Topic 31\n",
      "did work (4.1914), room did (0.4812), room did work (0.3512), work properly (0.3481), did work properly (0.3346), wifi did (0.3006), wifi did work (0.2975), work room (0.2697), did work room (0.2693), tv did (0.2617)\n",
      "\n",
      "Topic 32\n",
      "room tiny (4.6802), tiny room (0.3524), single room (0.2483), tiny bathroom (0.1858), double room (0.1707), tiny bed (0.1466), hotel room (0.0812), tiny shower (0.0738), room room (0.0626), superior room (0.0624)\n",
      "\n",
      "Topic 33\n",
      "room hot (4.3328), hot air (0.2942), room hot air (0.2720), open window (0.2339), hot night (0.1822), air conditioner (0.1288), window open (0.1279), hot air conditioning (0.0932), hot couldn (0.0907), hot stuffy (0.0835)\n",
      "\n",
      "Topic 34\n",
      "did like (4.9046), like hotel (0.2315), thing did (0.1971), like fact (0.1816), room did (0.0795), like room (0.0784), like breakfast (0.0690), hotel did (0.0643), like having (0.0602), like location (0.0583)\n",
      "\n",
      "Topic 35\n",
      "bit expensive (5.0839), breakfast bit (1.4864), breakfast bit expensive (0.7312), little bit expensive (0.4844), bit pricey (0.1739), parking bit (0.1637), price bit (0.1237), breakfast bit pricey (0.0927), expensive room (0.0728), expensive worth (0.0699)\n",
      "\n",
      "Topic 36\n",
      "double bed (4.3814), single beds (1.2611), double room (0.5630), bed small (0.4684), beds pushed (0.4236), twin beds (0.4022), bed room (0.3956), small double (0.3869), room double (0.3815), room double bed (0.3407)\n",
      "\n",
      "Topic 37\n",
      "city center (3.1420), bit far (2.7550), far city (2.4314), far city center (1.5731), city centre (1.3797), bit far city (0.8489), far away (0.7270), location bit (0.6519), far city centre (0.6437), location bit far (0.5067)\n",
      "\n",
      "Topic 38\n",
      "view room (4.4769), room wasn (0.3580), room view (0.3227), wasn great (0.1444), room window (0.1394), room floor (0.1058), river view (0.0977), room looked (0.0966), room nice (0.0939), better view (0.0897)\n",
      "\n",
      "Topic 39\n",
      "bit small (7.7379), room bit small (2.3169), rooms bit (1.9945), rooms bit small (1.6497), little bit small (0.5869), bathroom bit (0.3842), bathroom bit small (0.3676), bed bit (0.3178), room little bit (0.2764), bed bit small (0.2673)\n",
      "\n",
      "Topic 40\n",
      "staff friendly (4.4154), friendly helpful (0.3409), staff friendly helpful (0.3197), bar staff (0.2552), reception staff friendly (0.2042), breakfast staff (0.1364), desk staff (0.1362), hotel staff (0.1166), bar area (0.1059), restaurant staff (0.0720)\n",
      "\n",
      "Topic 41\n",
      "expensive breakfast (4.5145), quite expensive (0.2320), room expensive (0.1174), little expensive (0.1113), parking expensive (0.0738), breakfast little (0.0481), car parking (0.0456), breakfast euro (0.0414), breakfast hotel (0.0385), bar expensive (0.0377)\n",
      "\n",
      "Topic 42\n",
      "making facilities (2.3637), coffee making (1.8994), facilities room (1.8258), coffee making facilities (1.7872), making facilities room (1.6089), tea coffee making (1.5646), tea making (0.7083), tea making facilities (0.6717), tea coffee (0.4186), coffee tea (0.2593)\n",
      "\n",
      "Topic 43\n",
      "breakfast better (4.5832), cooked breakfast (0.1230), english breakfast (0.0897), better price (0.0837), continental breakfast (0.0589), scrambled eggs (0.0573), coffee machine (0.0526), buffet breakfast (0.0514), better quality (0.0483), service breakfast (0.0430)\n",
      "\n",
      "Topic 44\n",
      "bit noisy (4.7417), noisy night (0.7338), little bit noisy (0.4272), bit noisy night (0.3925), room bit noisy (0.3414), early morning (0.3000), noisy room (0.2980), rooms bit (0.2937), noisy outside (0.1500), noisy street (0.1491)\n",
      "\n",
      "Topic 45\n",
      "breakfast buffet (5.8948), poor breakfast (0.4938), hot food (0.1871), cooked breakfast (0.1559), coffee machine (0.1525), food breakfast (0.1454), scrambled eggs (0.1223), bit pricey (0.0881), buffet style (0.0869), continental breakfast (0.0868)\n",
      "\n",
      "Topic 46\n",
      "bed comfortable (6.7767), sofa bed (0.5050), small bed (0.3110), comfortable room (0.2287), room bed (0.1708), room clean (0.1626), room cold (0.1348), bed uncomfortable (0.1202), room small bed (0.1163), extra bed (0.0991)\n",
      "\n",
      "Topic 47\n",
      "credit card (5.0971), charged credit (0.2058), charged credit card (0.2056), card charged (0.1547), card details (0.1398), debit card (0.1173), hotel staff (0.1167), card used (0.1153), staff rude (0.1135), pay cash (0.1107)\n",
      "\n",
      "Topic 48\n",
      "price breakfast (4.7092), breakfast little (0.4197), price breakfast included (0.2973), breakfast bit (0.2550), breakfast high (0.2184), high price (0.1790), little expensive (0.1450), room price (0.1034), breakfast little expensive (0.0599), little pricey (0.0592)\n",
      "\n",
      "Topic 49\n",
      "small bathroom (4.0199), room small bathroom (0.7085), bathroom tiny (0.2247), bathroom door (0.1990), bed small (0.1860), small bathroom small (0.1613), extremely small (0.1498), bathroom shower (0.1193), small room small (0.1136), bathroom smaller (0.1078)\n"
     ]
    }
   ],
   "source": [
    "display_topics2(nmf_tfidf, tfidf_vectorizer.get_feature_names(),10)"
   ]
  },
  {
   "cell_type": "code",
   "execution_count": 29,
   "metadata": {},
   "outputs": [
    {
     "name": "stdout",
     "output_type": "stream",
     "text": [
      "\n",
      "Topic 0\n",
      "room (30.5580), view (0.7726), booked (0.7221), given (0.6206), double (0.5565)\n",
      "\n",
      "Topic 1\n",
      "hotel (21.6359), star (1.7160), star hotel (1.2118), like (0.7551), old (0.6331)\n",
      "\n",
      "Topic 2\n",
      "negative (18.9104), say (0.0378), negative say (0.0246), thing (0.0181), really (0.0167)\n",
      "\n",
      "Topic 3\n",
      "breakfast (17.0821), expensive (1.6968), included (1.3368), price (1.2971), breakfast included (0.9235)\n",
      "\n",
      "Topic 4\n",
      "small (19.6331), room small (4.0953), small room (2.1133), rooms small (0.9522), bit small (0.7507)\n",
      "\n",
      "Topic 5\n",
      "staff (22.2124), reception (2.0348), rude (2.0173), friendly (1.8064), helpful (1.7068)\n",
      "\n",
      "Topic 6\n",
      "shower (19.3878), bath (3.0340), toilet (1.3759), head (1.1778), shower head (0.9826)\n",
      "\n",
      "Topic 7\n",
      "bed (14.1502), double (3.0656), double bed (1.8034), beds (1.5589), single (1.3951)\n",
      "\n",
      "Topic 8\n",
      "rooms (15.5501), rooms small (1.2128), old (0.7545), small rooms (0.6621), need (0.5547)\n",
      "\n",
      "Topic 9\n",
      "didn (14.0458), like (6.2356), work (2.9716), didn work (2.4742), didn like (2.4111)\n",
      "\n",
      "Topic 10\n",
      "bit (16.2525), room bit (1.7903), bit small (1.5829), little bit (1.3179), far (1.1266)\n",
      "\n",
      "Topic 11\n",
      "check (15.6967), time (11.9507), long (2.5694), early (1.8657), wait (1.7282)\n",
      "\n",
      "Topic 12\n",
      "night (14.6350), noise (2.1877), sleep (1.7453), noisy (1.6880), morning (0.9810)\n",
      "\n",
      "Topic 13\n",
      "service (11.4544), bar (10.8329), room service (4.0633), food (3.1479), restaurant (2.7913)\n",
      "\n",
      "Topic 14\n",
      "water (15.0533), hot (7.9587), hot water (3.2611), cold (3.0573), bottle (1.3026)\n",
      "\n",
      "Topic 15\n",
      "did (14.2799), work (3.2045), did work (2.2558), like (1.4079), did like (0.8644)\n",
      "\n",
      "Topic 16\n",
      "coffee (12.2123), tea (9.6695), tea coffee (5.3555), facilities (4.4284), making (2.6210)\n",
      "\n",
      "Topic 17\n",
      "booking (12.9473), com (7.0456), booking com (6.8757), booked (3.3624), price (1.7230)\n",
      "\n",
      "Topic 18\n",
      "bathroom (18.9380), door (3.6636), toilet (1.3969), clean (1.0339), old (1.0225)\n",
      "\n",
      "Topic 19\n",
      "poor (15.9949), wifi (9.7416), free (3.5673), quality (1.6782), free wifi (1.6462)\n",
      "\n",
      "Topic 20\n",
      "little (15.6035), room little (2.0394), little bit (1.7053), little small (1.2471), just (0.7041)\n",
      "\n",
      "Topic 21\n",
      "air (11.2884), conditioning (6.0340), air conditioning (6.0211), window (2.6778), open (2.4534)\n",
      "\n",
      "Topic 22\n",
      "good (12.0475), really (1.8633), location (1.5404), wasn (1.0122), food (0.9170)\n",
      "\n",
      "Topic 23\n",
      "day (5.8196), stay (5.2243), reception (5.0655), just (4.5059), told (4.3687)\n",
      "\n",
      "Topic 24\n",
      "floor (12.0367), noise (2.0307), lift (1.4607), ground (1.3890), view (1.2852)\n"
     ]
    }
   ],
   "source": [
    "display_topics2(nmf_cv, count_vectorizer.get_feature_names(),5)"
   ]
  },
  {
   "cell_type": "code",
   "execution_count": 51,
   "metadata": {},
   "outputs": [],
   "source": [
    "# initialize vectorizers\n",
    "count_vectorizer2 = CountVectorizer(ngram_range=(1, 2),  \n",
    "                                   stop_words='english', \n",
    "                                   token_pattern=\"\\\\b[a-z][a-z]+\\\\b\",\n",
    "                                   lowercase=True,\n",
    "                                   max_df = 0.6, max_features=4000)\n",
    "tfidf_vectorizer2 = TfidfVectorizer(ngram_range=(1, 2),  \n",
    "                                   stop_words='english', \n",
    "                                   token_pattern=\"\\\\b[a-z][a-z]+\\\\b\",\n",
    "                                   lowercase=True,\n",
    "                                   max_df = 0.6, max_features=4000)\n",
    "\n",
    "# transfomred my text data using vectorizers\n",
    "cv_data = count_vectorizer2.fit_transform(df.ReviewTextLower)\n",
    "tfidf_data = tfidf_vectorizer2.fit_transform(df.ReviewTextLower)"
   ]
  },
  {
   "cell_type": "code",
   "execution_count": 52,
   "metadata": {},
   "outputs": [],
   "source": [
    "# initialized reducers with dimensions\n",
    "n_comp = 5\n",
    "lsa_tfidf = TruncatedSVD(n_components=n_comp)\n",
    "lsa_cv = TruncatedSVD(n_components=n_comp)\n",
    "nmf_tfidf = NMF(n_components=n_comp)\n",
    "nmf_cv = NMF(n_components=n_comp)\n",
    "\n",
    "# transformed my vectorizers data using reducers\n",
    "lsa_tfidf_data = lsa_tfidf.fit_transform(tfidf_data)\n",
    "lsa_cv_data = lsa_cv.fit_transform(cv_data)\n",
    "nmf_tfidf_data = nmf_tfidf.fit_transform(tfidf_data)\n",
    "nmf_cv_data = nmf_cv.fit_transform(cv_data)"
   ]
  },
  {
   "cell_type": "code",
   "execution_count": 53,
   "metadata": {},
   "outputs": [],
   "source": [
    "# initialize standardscaler\n",
    "from sklearn.preprocessing import StandardScaler\n",
    "SS = StandardScaler()\n",
    "\n",
    "# transform my reducer data using standardscaler\n",
    "lsa_tfidf_data_sclaed = SS.fit_transform(lsa_tfidf_data)\n",
    "lsa_cv_data_sclaed = SS.fit_transform(lsa_cv_data)\n",
    "nmf_tfidf_data_scaled = SS.fit_transform(nmf_tfidf_data)\n",
    "nmf_cv_data_scaled = SS.fit_transform(nmf_cv_data)"
   ]
  },
  {
   "cell_type": "code",
   "execution_count": 55,
   "metadata": {},
   "outputs": [
    {
     "name": "stdout",
     "output_type": "stream",
     "text": [
      "\n",
      "Topic 0\n",
      "perfect stay (1.0000), little bit (0.0006), helpful staff excellent (0.0003), spacious breakfast (0.0002), good reception (0.0002), feel comfortable (0.0001), handy location (0.0001), station tram (0.0001)\n",
      "\n",
      "Topic 1\n",
      "little bit (0.9169), spacious breakfast (0.1482), great customer (0.1384), good reception (0.1380), great location excellent (0.0994), gluten free (0.0897), good thing (0.0814), extremely nice (0.0741)\n",
      "\n",
      "Topic 2\n",
      "spacious breakfast (0.4411), gluten free (0.3037), handy location (0.2395), good reception (0.2215), room best (0.2069), great customer (0.1918), breakfast helpful staff (0.1894), helpful staff excellent (0.1693)\n",
      "\n",
      "Topic 3\n",
      "good reception (0.6384), good thing (0.2696), breakfast helpful staff (0.2567), location business (0.1499), room best (0.1361), breakfast really good (0.1114), good selection (0.1107), beds excellent (0.0986)\n",
      "\n",
      "Topic 4\n",
      "great customer (0.6215), great location excellent (0.3792), room best (0.1615), location center (0.1388), beds excellent (0.1278), helpful staff excellent (0.1112), comfortable bed staff (0.1108), clean room comfortable (0.0782)\n"
     ]
    }
   ],
   "source": [
    "display_topics2(lsa_tfidf, tfidf_vectorizer.get_feature_names(),8)"
   ]
  },
  {
   "cell_type": "code",
   "execution_count": 57,
   "metadata": {},
   "outputs": [
    {
     "name": "stdout",
     "output_type": "stream",
     "text": [
      "Topic0:\n",
      "['metro easy', 'bathroom really', 'clean room comfortable', 'breakfast helpful staff', 'extremely nice', 'great customer', 'gluten free', 'room best', 'station tram', 'handy location', 'feel comfortable', 'good reception', 'spacious breakfast', 'helpful staff excellent', 'little bit']\n",
      "Topic1:\n",
      "['location business', 'metro easy', 'good clean', 'clean room comfortable', 'breakfast helpful staff', 'helpful staff excellent', 'handy location', 'room best', 'extremely nice', 'good thing', 'gluten free', 'great location excellent', 'good reception', 'great customer', 'spacious breakfast']\n",
      "Topic2:\n",
      "['beds excellent', 'good breakfast friendly', 'extremely nice', 'comfortable bed staff', 'staff awesome', 'metro easy', 'clean room comfortable', 'good clean', 'helpful staff excellent', 'breakfast helpful staff', 'great customer', 'room best', 'good reception', 'handy location', 'gluten free']\n",
      "Topic3:\n",
      "['hot chocolate', 'comfortable large', 'staff beautiful', 'room decent size', 'helpful staff excellent', 'clean room comfortable', 'comfortable bed staff', 'metro easy', 'beds excellent', 'good selection', 'breakfast really good', 'room best', 'location business', 'breakfast helpful staff', 'good thing']\n",
      "Topic4:\n",
      "['breakfast helpful staff', 'great facilities', 'hot cold', 'location loved', 'great location wonderful', 'comfortable large', 'staff bed', 'metro easy', 'clean room comfortable', 'comfortable bed staff', 'helpful staff excellent', 'beds excellent', 'location center', 'room best', 'great location excellent']\n",
      "Topic5:\n"
     ]
    },
    {
     "ename": "IndexError",
     "evalue": "index 5 is out of bounds for axis 0 with size 5",
     "output_type": "error",
     "traceback": [
      "\u001b[1;31m---------------------------------------------------------------------------\u001b[0m",
      "\u001b[1;31mIndexError\u001b[0m                                Traceback (most recent call last)",
      "\u001b[1;32m<ipython-input-57-ffb701d21066>\u001b[0m in \u001b[0;36m<module>\u001b[1;34m\u001b[0m\n\u001b[0;32m      6\u001b[0m     \u001b[0mword_list\u001b[0m\u001b[1;33m=\u001b[0m\u001b[1;33m[\u001b[0m\u001b[1;33m]\u001b[0m\u001b[1;33m\u001b[0m\u001b[1;33m\u001b[0m\u001b[0m\n\u001b[0;32m      7\u001b[0m     \u001b[0mprint\u001b[0m\u001b[1;33m(\u001b[0m\u001b[1;34m\"Topic%d:\"\u001b[0m\u001b[1;33m%\u001b[0m \u001b[0mcv\u001b[0m\u001b[1;33m)\u001b[0m\u001b[1;33m\u001b[0m\u001b[1;33m\u001b[0m\u001b[0m\n\u001b[1;32m----> 8\u001b[1;33m     \u001b[1;32mfor\u001b[0m \u001b[0mj\u001b[0m \u001b[1;32min\u001b[0m \u001b[0mlsa_tfidf\u001b[0m\u001b[1;33m.\u001b[0m\u001b[0mcomponents_\u001b[0m\u001b[1;33m.\u001b[0m\u001b[0margsort\u001b[0m\u001b[1;33m(\u001b[0m\u001b[1;33m)\u001b[0m\u001b[1;33m[\u001b[0m\u001b[0mcv\u001b[0m\u001b[1;33m,\u001b[0m \u001b[1;33m-\u001b[0m\u001b[1;36m16\u001b[0m\u001b[1;33m:\u001b[0m\u001b[1;33m-\u001b[0m\u001b[1;36m1\u001b[0m\u001b[1;33m]\u001b[0m\u001b[1;33m:\u001b[0m\u001b[1;33m\u001b[0m\u001b[1;33m\u001b[0m\u001b[0m\n\u001b[0m\u001b[0;32m      9\u001b[0m         \u001b[0mword_list\u001b[0m\u001b[1;33m.\u001b[0m\u001b[0mappend\u001b[0m\u001b[1;33m(\u001b[0m\u001b[0mterms\u001b[0m\u001b[1;33m[\u001b[0m\u001b[0mj\u001b[0m\u001b[1;33m]\u001b[0m\u001b[1;33m)\u001b[0m\u001b[1;33m\u001b[0m\u001b[1;33m\u001b[0m\u001b[0m\n\u001b[0;32m     10\u001b[0m     \u001b[0mprint\u001b[0m\u001b[1;33m(\u001b[0m\u001b[0mword_list\u001b[0m\u001b[1;33m)\u001b[0m\u001b[1;33m\u001b[0m\u001b[1;33m\u001b[0m\u001b[0m\n",
      "\u001b[1;31mIndexError\u001b[0m: index 5 is out of bounds for axis 0 with size 5"
     ]
    }
   ],
   "source": [
    "#lsa = TruncatedSVD(n_components=50)\n",
    "#lsa_tfidf_data = lsa.fit_transform(tfidf_data)\n",
    "terms = tfidf_vectorizer.get_feature_names()\n",
    "\n",
    "for cv in range(0,10):\n",
    "    word_list=[]\n",
    "    print(\"Topic%d:\"% cv)\n",
    "    for j in lsa_tfidf.components_.argsort()[cv, -16:-1]:\n",
    "        word_list.append(terms[j])\n",
    "    print(word_list)"
   ]
  },
  {
   "cell_type": "code",
   "execution_count": 58,
   "metadata": {},
   "outputs": [],
   "source": [
    "\n",
    "SSEs = []\n",
    "Sil_coefs = []\n",
    "for k in range(2,10):\n",
    "    km = KMeans(n_clusters=k, random_state=42)\n",
    "    km.fit(lsa_tfidf_data_sclaed)\n",
    "    labels = km.labels_\n",
    "    Sil_coefs.append(silhouette_score(lsa_tfidf_data_sclaed, labels, metric='euclidean'))\n",
    "    SSEs.append(km.inertia_)"
   ]
  },
  {
   "cell_type": "code",
   "execution_count": null,
   "metadata": {},
   "outputs": [],
   "source": [
    "fig, (ax1, ax2) = plt.subplots(1,2, figsize=(15,5), sharex=True, dpi=200)\n",
    "k_clusters = range(2,10)\n",
    "ax1.plot(k_clusters, Sil_coefs)\n",
    "ax1.set_xlabel('number of clusters')\n",
    "ax1.set_ylabel('silhouette coefficient')\n",
    "\n",
    "# plot here on ax2\n",
    "ax2.plot(k_clusters, SSEs)\n",
    "ax2.set_xlabel('number of clusters')\n",
    "ax2.set_ylabel('SSE');"
   ]
  },
  {
   "cell_type": "code",
   "execution_count": null,
   "metadata": {},
   "outputs": [],
   "source": [
    "inertia = [0,0]\n",
    "\n",
    "for n_clusters in range(2, 25):\n",
    "    km = KMeans(n_clusters = n_clusters)\n",
    "    km.fit(lsa_tfidf_data_sclaed)\n",
    "    msg = f\"\"\"# clusters: {n_clusters:2d}   Inertia: {km.inertia_:8.6f}\"\"\"\n",
    "    inertia.append(km.inertia_)\n",
    "    print(msg)"
   ]
  },
  {
   "cell_type": "code",
   "execution_count": null,
   "metadata": {},
   "outputs": [],
   "source": [
    "\n",
    "plt.figure(figsize=(20,10))\n",
    "plt.plot(inertia)\n",
    "plt.xlabel('# of clusters')\n",
    "plt.xlim((2,25))\n",
    "plt.ylabel('inertia scores')\n",
    "#plt.ylim((650,1200))"
   ]
  },
  {
   "cell_type": "code",
   "execution_count": null,
   "metadata": {},
   "outputs": [],
   "source": [
    "k = 3\n",
    "kmeans = KMeans(n_clusters=k, random_state=1)\n",
    "kmeans.fit(lsa_tfidf_data_sclaed)\n",
    "centers = kmeans.cluster_centers_.argsort()[:,::-1]\n",
    "terms = tfidf_vectorizer.get_feature_names()\n",
    "\n",
    "for i in range(0,k):\n",
    "    word_list=[]\n",
    "    print(\"cluster%d:\"% i)\n",
    "    for j in centers[i,:15]:\n",
    "        word_list.append(terms[j])\n",
    "    print(word_list)"
   ]
  },
  {
   "cell_type": "code",
   "execution_count": null,
   "metadata": {},
   "outputs": [],
   "source": [
    "tsne = TSNE(n_components=2, verbose=1, perplexity=92, n_iter=300)\n",
    "X_ne = tsne.fit_transform(lsa_tfidf_data_sclaed[2000:])\n",
    "\n",
    "figsize=(20,15)\n",
    "plt.figure(dpi=300)\n",
    "sns.scatterplot(X_ne[:, 0], X_ne[:, 1], hue=kmeans.labels_[2000:], alpha=0.5, size = 0.5, palette='rainbow', legend='full');"
   ]
  },
  {
   "cell_type": "code",
   "execution_count": null,
   "metadata": {},
   "outputs": [],
   "source": [
    "for i in range(0,k):\n",
    "    word_list=[]\n",
    "    print(\"cluster%d:\"% i)\n",
    "    for j in centers[i,:15]:\n",
    "        word_list.append(terms[j])\n",
    "    print(word_list)"
   ]
  },
  {
   "cell_type": "code",
   "execution_count": null,
   "metadata": {},
   "outputs": [],
   "source": [
    "kmeans.labels_"
   ]
  },
  {
   "cell_type": "code",
   "execution_count": null,
   "metadata": {},
   "outputs": [],
   "source": [
    "indices_max = [index for index, value in enumerate(kmeans.labels_) if value==0]\n",
    "for rev_index in indices_max[:5]:\n",
    "    print(rev_index, str(df.ReviewText[rev_index]))\n",
    "    print(\"\\n\")"
   ]
  },
  {
   "cell_type": "code",
   "execution_count": null,
   "metadata": {},
   "outputs": [],
   "source": [
    "indices_max = [index for index, value in enumerate(kmeans.labels_) if value==1]\n",
    "for rev_index in indices_max[:5]:\n",
    "    print(rev_index, str(df.ReviewText[rev_index]))\n",
    "    print(\"\\n\")"
   ]
  },
  {
   "cell_type": "code",
   "execution_count": null,
   "metadata": {},
   "outputs": [],
   "source": [
    "indices_max = [index for index, value in enumerate(kmeans.labels_) if value==2]\n",
    "for rev_index in indices_max[:5]:\n",
    "    print(rev_index, str(df.ReviewText[rev_index]))\n",
    "    print(\"\\n\")"
   ]
  },
  {
   "cell_type": "code",
   "execution_count": null,
   "metadata": {},
   "outputs": [],
   "source": [
    "SSEs = []\n",
    "Sil_coefs = []\n",
    "for k in range(2,10):\n",
    "    km = KMeans(n_clusters=k, random_state=42)\n",
    "    km.fit(nmf_tfidf_data_scaled)\n",
    "    labels = km.labels_\n",
    "    Sil_coefs.append(silhouette_score(nmf_tfidf_data_scaled, labels, metric='euclidean'))\n",
    "    SSEs.append(km.inertia_)"
   ]
  },
  {
   "cell_type": "code",
   "execution_count": null,
   "metadata": {},
   "outputs": [],
   "source": [
    "fig, (ax1, ax2) = plt.subplots(1,2, figsize=(15,5), sharex=True, dpi=200)\n",
    "k_clusters = range(2,10)\n",
    "ax1.plot(k_clusters, Sil_coefs)\n",
    "ax1.set_xlabel('number of clusters')\n",
    "ax1.set_ylabel('silhouette coefficient')\n",
    "\n",
    "# plot here on ax2\n",
    "ax2.plot(k_clusters, SSEs)\n",
    "ax2.set_xlabel('number of clusters')\n",
    "ax2.set_ylabel('SSE');"
   ]
  },
  {
   "cell_type": "code",
   "execution_count": null,
   "metadata": {},
   "outputs": [],
   "source": [
    "inertia = [0,0]\n",
    "\n",
    "for n_clusters in range(2, 25):\n",
    "    km = KMeans(n_clusters = n_clusters)\n",
    "    km.fit(nmf_tfidf_data_scaled)\n",
    "    msg = f\"\"\"# clusters: {n_clusters:2d}   Inertia: {km.inertia_:8.6f}\"\"\"\n",
    "    inertia.append(km.inertia_)\n",
    "    print(msg)"
   ]
  },
  {
   "cell_type": "code",
   "execution_count": null,
   "metadata": {},
   "outputs": [],
   "source": [
    "\n",
    "plt.figure(figsize=(20,10))\n",
    "plt.plot(inertia)\n",
    "plt.xlabel('# of clusters')\n",
    "plt.xlim((2,25))\n",
    "plt.ylabel('inertia scores')\n",
    "#plt.ylim((650,1200))"
   ]
  },
  {
   "cell_type": "code",
   "execution_count": null,
   "metadata": {},
   "outputs": [],
   "source": [
    "k = 5\n",
    "kmeans = KMeans(n_clusters=k, random_state=1)\n",
    "kmeans.fit(nmf_tfidf_data_scaled)\n",
    "centers = kmeans.cluster_centers_.argsort()[:,::-1]\n",
    "terms = tfidf_vectorizer.get_feature_names()\n",
    "\n",
    "for i in range(0,k):\n",
    "    word_list=[]\n",
    "    print(\"cluster%d:\"% i)\n",
    "    for j in centers[i,:15]:\n",
    "        word_list.append(terms[j])\n",
    "    print(word_list)"
   ]
  },
  {
   "cell_type": "code",
   "execution_count": null,
   "metadata": {},
   "outputs": [],
   "source": [
    "tsne = TSNE(n_components=2, verbose=1, perplexity=92, n_iter=300)\n",
    "X_ne = tsne.fit_transform(nmf_tfidf_data_scaled[2000:])\n",
    "\n",
    "figsize=(20,15)\n",
    "plt.figure(dpi=300)\n",
    "sns.scatterplot(X_ne[:, 0], X_ne[:, 1], hue=kmeans.labels_[2000:], alpha=0.5, size = 0.5, palette='rainbow', legend='full');"
   ]
  },
  {
   "cell_type": "code",
   "execution_count": null,
   "metadata": {},
   "outputs": [],
   "source": [
    "# running cluster\n",
    "k = 6\n",
    "kmeans = KMeans(n_clusters=k, random_state=1)\n",
    "kmeans.fit(nmf_tfidf_data_scaled)\n",
    "centers = kmeans.cluster_centers_.argsort()[:,::-1]\n",
    "terms = tfidf_vectorizer.get_feature_names()\n",
    "\n",
    "for i in range(0,k):\n",
    "    word_list=[]\n",
    "    print(\"cluster%d:\"% i)\n",
    "    for j in centers[i,:15]:\n",
    "        word_list.append(terms[j])\n",
    "    print(word_list)"
   ]
  },
  {
   "cell_type": "code",
   "execution_count": null,
   "metadata": {},
   "outputs": [],
   "source": [
    "tsne = TSNE(n_components=2, verbose=1, perplexity=92, n_iter=300)\n",
    "X_ne = tsne.fit_transform(nmf_tfidf_data_scaled[2000:])\n",
    "\n",
    "figsize=(20,15)\n",
    "plt.figure(dpi=300)\n",
    "sns.scatterplot(X_ne[:, 0], X_ne[:, 1], hue=kmeans.labels_[2000:], alpha=0.5, size = 0.5, palette='rainbow', legend='full');"
   ]
  },
  {
   "cell_type": "code",
   "execution_count": null,
   "metadata": {},
   "outputs": [],
   "source": [
    "indices_max = [index for index, value in enumerate(kmeans.labels_) if value==3]\n",
    "for rev_index in indices_max[:5]:\n",
    "    print(rev_index, str(df.ReviewText[rev_index]))\n",
    "    print(\"\\n\")"
   ]
  },
  {
   "cell_type": "code",
   "execution_count": null,
   "metadata": {},
   "outputs": [],
   "source": [
    "# initialize vectorizers\n",
    "count_vectorizer = CountVectorizer(ngram_range=(1, 3),  \n",
    "                                   stop_words='english', \n",
    "                                   token_pattern=\"\\\\b[a-z][a-z]+\\\\b\",\n",
    "                                   lowercase=True,\n",
    "                                   max_df = 0.6, max_features=4000)\n",
    "tfidf_vectorizer = TfidfVectorizer(ngram_range=(1, 3),  \n",
    "                                   stop_words='english', \n",
    "                                   token_pattern=\"\\\\b[a-z][a-z]+\\\\b\",\n",
    "                                   lowercase=True,\n",
    "                                   max_df = 0.6, max_features=4000)\n",
    "\n",
    "# transfomred my text data using vectorizers\n",
    "cv_data = count_vectorizer.fit_transform(df.ReviewTextLower)\n",
    "tfidf_data = tfidf_vectorizer.fit_transform(df.ReviewTextLower)"
   ]
  },
  {
   "cell_type": "code",
   "execution_count": null,
   "metadata": {},
   "outputs": [],
   "source": [
    "# initialized reducers with dimensions\n",
    "n_comp = 5\n",
    "lsa_tfidf = TruncatedSVD(n_components=n_comp)\n",
    "lsa_cv = TruncatedSVD(n_components=n_comp)\n",
    "nmf_tfidf = NMF(n_components=n_comp)\n",
    "nmf_cv = NMF(n_components=n_comp)\n",
    "\n",
    "# transformed my vectorizers data using reducers\n",
    "lsa_tfidf_data = lsa_tfidf.fit_transform(tfidf_data)\n",
    "lsa_cv_data = lsa_cv.fit_transform(cv_data)\n",
    "nmf_tfidf_data = nmf_tfidf.fit_transform(tfidf_data)\n",
    "nmf_cv_data = nmf_cv.fit_transform(cv_data)"
   ]
  },
  {
   "cell_type": "code",
   "execution_count": null,
   "metadata": {},
   "outputs": [],
   "source": [
    "# initialize standardscaler\n",
    "from sklearn.preprocessing import StandardScaler\n",
    "SS = StandardScaler()\n",
    "\n",
    "# transform my reducer data using standardscaler\n",
    "lsa_tfidf_data_sclaed = SS.fit_transform(lsa_tfidf_data)\n",
    "lsa_cv_data_sclaed = SS.fit_transform(lsa_cv_data)\n",
    "nmf_tfidf_data_scaled = SS.fit_transform(nmf_tfidf_data)\n",
    "nmf_cv_data_scaled = SS.fit_transform(nmf_cv_data)"
   ]
  },
  {
   "cell_type": "code",
   "execution_count": null,
   "metadata": {},
   "outputs": [],
   "source": [
    "SSEs = []\n",
    "Sil_coefs = []\n",
    "for k in range(2,10):\n",
    "    km = KMeans(n_clusters=k, random_state=42)\n",
    "    km.fit(nmf_tfidf_data_scaled)\n",
    "    labels = km.labels_\n",
    "    Sil_coefs.append(silhouette_score(nmf_tfidf_data_scaled, labels, metric='euclidean'))\n",
    "    SSEs.append(km.inertia_)"
   ]
  },
  {
   "cell_type": "code",
   "execution_count": null,
   "metadata": {},
   "outputs": [],
   "source": [
    "\n",
    "fig, (ax1, ax2) = plt.subplots(1,2, figsize=(15,5), sharex=True, dpi=200)\n",
    "k_clusters = range(2,10)\n",
    "ax1.plot(k_clusters, Sil_coefs)\n",
    "ax1.set_xlabel('number of clusters')\n",
    "ax1.set_ylabel('silhouette coefficient')\n",
    "\n",
    "# plot here on ax2\n",
    "ax2.plot(k_clusters, SSEs)\n",
    "ax2.set_xlabel('number of clusters')\n",
    "ax2.set_ylabel('SSE');"
   ]
  },
  {
   "cell_type": "code",
   "execution_count": null,
   "metadata": {},
   "outputs": [],
   "source": [
    "inertia = [0,0]\n",
    "\n",
    "for n_clusters in range(2, 25):\n",
    "    km = KMeans(n_clusters = n_clusters)\n",
    "    km.fit(nmf_tfidf_data_scaled)\n",
    "    msg = f\"\"\"# clusters: {n_clusters:2d}   Inertia: {km.inertia_:8.6f}\"\"\"\n",
    "    inertia.append(km.inertia_)\n",
    "    print(msg)"
   ]
  },
  {
   "cell_type": "code",
   "execution_count": null,
   "metadata": {},
   "outputs": [],
   "source": [
    "plt.figure(figsize=(20,10))\n",
    "plt.plot(inertia)\n",
    "plt.xlabel('# of clusters')\n",
    "plt.xlim((2,25))\n",
    "plt.ylabel('inertia scores')\n",
    "#plt.ylim((650,1200))"
   ]
  },
  {
   "cell_type": "code",
   "execution_count": null,
   "metadata": {},
   "outputs": [],
   "source": [
    "k = 5\n",
    "kmeans = KMeans(n_clusters=k, random_state=42)\n",
    "kmeans.fit(nmf_tfidf_data_scaled)\n",
    "centers = kmeans.cluster_centers_.argsort()[:,::-1]\n",
    "terms = tfidf_vectorizer.get_feature_names()\n",
    "\n",
    "for i in range(0,k):\n",
    "    word_list=[]\n",
    "    print(\"cluster%d:\"% i)\n",
    "    for j in centers[i,:15]:\n",
    "        word_list.append(terms[j])\n",
    "    print(word_list)"
   ]
  },
  {
   "cell_type": "code",
   "execution_count": null,
   "metadata": {},
   "outputs": [],
   "source": [
    "tsne = TSNE(n_components=2, verbose=1, perplexity=92, n_iter=300, random_state=42)\n",
    "X_ne = tsne.fit_transform(nmf_tfidf_data_scaled[2000:])\n",
    "\n",
    "figsize=(20,15)\n",
    "plt.figure(dpi=300)\n",
    "sns.scatterplot(X_ne[:, 0], X_ne[:, 1], hue=kmeans.labels_[2000:], alpha=0.5, size = 0.5, palette='rainbow', legend='full');"
   ]
  },
  {
   "cell_type": "code",
   "execution_count": null,
   "metadata": {},
   "outputs": [],
   "source": [
    "indices_max = [index for index, value in enumerate(kmeans.labels_) if value==0]\n",
    "for rev_index in indices_max[:5]:\n",
    "    print(rev_index, str(df.ReviewText[rev_index]))\n",
    "    print(\"\\n\")\n"
   ]
  },
  {
   "cell_type": "code",
   "execution_count": null,
   "metadata": {},
   "outputs": [],
   "source": [
    "indices_max = [index for index, value in enumerate(kmeans.labels_) if value==0]\n",
    "for rev_index in indices_max[:5]:\n",
    "    print(rev_index, str(df.ReviewText[rev_index]))\n",
    "    print(\"\\n\")"
   ]
  }
 ],
 "metadata": {
  "kernelspec": {
   "display_name": "Python 3",
   "language": "python",
   "name": "python3"
  },
  "language_info": {
   "codemirror_mode": {
    "name": "ipython",
    "version": 3
   },
   "file_extension": ".py",
   "mimetype": "text/x-python",
   "name": "python",
   "nbconvert_exporter": "python",
   "pygments_lexer": "ipython3",
   "version": "3.7.1"
  }
 },
 "nbformat": 4,
 "nbformat_minor": 2
}
