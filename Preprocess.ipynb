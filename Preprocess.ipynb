{
 "cells": [
  {
   "cell_type": "markdown",
   "metadata": {
    "colab_type": "text",
    "id": "oVxuSKQlC4cB"
   },
   "source": [
    "<div id=\"container\" style=\"position:relative;\">\n",
    "<div style=\"float:left\"><h1> Preprocessing </h1></div>\n",
    "<div style=\"position:relative; float:right\"><img style=\"height:65px\" src =\"https://drive.google.com/uc?export=view&id=1EnB0x-fdqMp6I5iMoEBBEuxB_s7AmE2k\" />\n",
    "</div>\n",
    "</div>"
   ]
  },
  {
   "cell_type": "markdown",
   "metadata": {
    "colab_type": "text",
    "id": "OZMILXsKC4cC"
   },
   "source": [
    "Before we actually fit models or do any analysis on the data we need to get it into a format we can work with. The data itself could be incomplete, missing various values. This is more common than you may think, after all several people were involved in the various stages of the data creation and gathering, and they can make mistakes. We also need to deal with ensuring our data is in a format amenable to analysis, it's pointless trying to fit a model to data it is ill suited for. Finally we need to be considerate of the balance of our data, if we have an overrepresentation of a certain type of data we run the risk of our models overfitting to it."
   ]
  },
  {
   "cell_type": "markdown",
   "metadata": {
    "colab_type": "text",
    "id": "02Viv51KC4cD"
   },
   "source": [
    "As always, let's grab some packages we need:"
   ]
  },
  {
   "cell_type": "code",
   "execution_count": 0,
   "metadata": {
    "colab": {},
    "colab_type": "code",
    "id": "SVc3N1fDC4cE"
   },
   "outputs": [],
   "source": [
    "import seaborn as sns\n",
    "import numpy as np\n",
    "import matplotlib.pyplot as plt\n",
    "import pandas as pd"
   ]
  },
  {
   "cell_type": "markdown",
   "metadata": {
    "colab_type": "text",
    "id": "6h5_phKiC4cI"
   },
   "source": [
    "### Cleaning Data\n",
    "\n",
    "Data cleaning sounds like an unglamorous task, but in reality, it is one of the most important things you will do in data science.  The fanciest machine learning algorithms will produce worthless models if your data isn't clean.  What do we mean by \"clean\"?  Broadly speaking, we mean that the data accurately represents what it claims to, and is formatted in a way that we can use our tools on it.  The topics we're going to look at in data cleaning include:\n",
    "* Formatting - is our data presented in a way that makes sense?  Are the variable types correct? (e.g.: is there a column of strings that are supposed to represent numbers?)\n",
    "* Missing data - are there any rows or columns that have blank, np.NaN, or otherwise missing data?  Should they be cut out?  If the data set is time-series, should we fill using nearby data?"
   ]
  },
  {
   "cell_type": "markdown",
   "metadata": {
    "colab_type": "text",
    "id": "Hrx2hiQcC4cI"
   },
   "source": [
    "### Formatting Data\n",
    "\n",
    "Can we expect our data to work right out of the box? It's not always the case our data is properly formatted. If we load up data from a CSV we should check to make sure all the data it should be and in the correct format. To see what could go wrong let's load up the following CSV:"
   ]
  },
  {
   "cell_type": "code",
   "execution_count": 0,
   "metadata": {
    "colab": {},
    "colab_type": "code",
    "id": "Znk9_KIWC4cJ",
    "outputId": "a98a29de-e518-47d3-dae3-b6f0f7762e42"
   },
   "outputs": [
    {
     "data": {
      "text/html": [
       "<div>\n",
       "<style scoped>\n",
       "    .dataframe tbody tr th:only-of-type {\n",
       "        vertical-align: middle;\n",
       "    }\n",
       "\n",
       "    .dataframe tbody tr th {\n",
       "        vertical-align: top;\n",
       "    }\n",
       "\n",
       "    .dataframe thead th {\n",
       "        text-align: right;\n",
       "    }\n",
       "</style>\n",
       "<table border=\"1\" class=\"dataframe\">\n",
       "  <thead>\n",
       "    <tr style=\"text-align: right;\">\n",
       "      <th></th>\n",
       "      <th>index</th>\n",
       "      <th>name</th>\n",
       "      <th>Unnamed: 2</th>\n",
       "      <th>age</th>\n",
       "      <th>Debt</th>\n",
       "    </tr>\n",
       "  </thead>\n",
       "  <tbody>\n",
       "    <tr>\n",
       "      <th>0</th>\n",
       "      <td>1</td>\n",
       "      <td>Mearcred</td>\n",
       "      <td>25</td>\n",
       "      <td>u25000</td>\n",
       "      <td>NaN</td>\n",
       "    </tr>\n",
       "    <tr>\n",
       "      <th>1</th>\n",
       "      <td>2</td>\n",
       "      <td>Winnifred</td>\n",
       "      <td>32</td>\n",
       "      <td>u15120</td>\n",
       "      <td>NaN</td>\n",
       "    </tr>\n",
       "    <tr>\n",
       "      <th>2</th>\n",
       "      <td>3</td>\n",
       "      <td>Cuthbert</td>\n",
       "      <td>50</td>\n",
       "      <td>u823</td>\n",
       "      <td>NaN</td>\n",
       "    </tr>\n",
       "    <tr>\n",
       "      <th>3</th>\n",
       "      <td>4</td>\n",
       "      <td>Horatius</td>\n",
       "      <td>35</td>\n",
       "      <td>u30125</td>\n",
       "      <td>NaN</td>\n",
       "    </tr>\n",
       "    <tr>\n",
       "      <th>4</th>\n",
       "      <td>5</td>\n",
       "      <td>Hereward</td>\n",
       "      <td>22</td>\n",
       "      <td>u995</td>\n",
       "      <td>NaN</td>\n",
       "    </tr>\n",
       "    <tr>\n",
       "      <th>5</th>\n",
       "      <td>6</td>\n",
       "      <td>Bysra</td>\n",
       "      <td>18</td>\n",
       "      <td>u5720</td>\n",
       "      <td>NaN</td>\n",
       "    </tr>\n",
       "  </tbody>\n",
       "</table>\n",
       "</div>"
      ],
      "text/plain": [
       "   index       name  Unnamed: 2     age  Debt\n",
       "0      1   Mearcred          25  u25000   NaN\n",
       "1      2  Winnifred          32  u15120   NaN\n",
       "2      3   Cuthbert          50    u823   NaN\n",
       "3      4   Horatius          35  u30125   NaN\n",
       "4      5   Hereward          22    u995   NaN\n",
       "5      6      Bysra          18   u5720   NaN"
      ]
     },
     "execution_count": 2,
     "metadata": {
      "tags": []
     },
     "output_type": "execute_result"
    }
   ],
   "source": [
    "df = pd.read_csv('data/cleaning_data.csv')\n",
    "df"
   ]
  },
  {
   "cell_type": "markdown",
   "metadata": {
    "colab_type": "text",
    "id": "GWTOa2XRC4cP"
   },
   "source": [
    "What are the first things we notice?  \n",
    "1. There's an extra column called \"index\".  We should probably make that the index\n",
    "2. The column called \"age\" has a collection of large numbers preceded by a 'u'.  This means their data type *isn't* a number.\n",
    "3. There's a column that has no title, which seems to contain ages.\n",
    "4. There's a column called \"Debt\" that has nothing in it.\n",
    "5. All of the column names are lower case except for the last.\n",
    "\n",
    "So, we can presume that the column names were shifted over one starting where age should be. Our first order of business will be to put the index right, reloading the data frame:"
   ]
  },
  {
   "cell_type": "code",
   "execution_count": 0,
   "metadata": {
    "colab": {},
    "colab_type": "code",
    "id": "BllWDDM3C4cQ",
    "outputId": "801f9531-a5ff-4723-cdea-e9af89e0e61c"
   },
   "outputs": [
    {
     "data": {
      "text/html": [
       "<div>\n",
       "<style scoped>\n",
       "    .dataframe tbody tr th:only-of-type {\n",
       "        vertical-align: middle;\n",
       "    }\n",
       "\n",
       "    .dataframe tbody tr th {\n",
       "        vertical-align: top;\n",
       "    }\n",
       "\n",
       "    .dataframe thead th {\n",
       "        text-align: right;\n",
       "    }\n",
       "</style>\n",
       "<table border=\"1\" class=\"dataframe\">\n",
       "  <thead>\n",
       "    <tr style=\"text-align: right;\">\n",
       "      <th></th>\n",
       "      <th>name</th>\n",
       "      <th>Unnamed: 2</th>\n",
       "      <th>age</th>\n",
       "      <th>Debt</th>\n",
       "    </tr>\n",
       "    <tr>\n",
       "      <th>index</th>\n",
       "      <th></th>\n",
       "      <th></th>\n",
       "      <th></th>\n",
       "      <th></th>\n",
       "    </tr>\n",
       "  </thead>\n",
       "  <tbody>\n",
       "    <tr>\n",
       "      <th>1</th>\n",
       "      <td>Mearcred</td>\n",
       "      <td>25</td>\n",
       "      <td>u25000</td>\n",
       "      <td>NaN</td>\n",
       "    </tr>\n",
       "    <tr>\n",
       "      <th>2</th>\n",
       "      <td>Winnifred</td>\n",
       "      <td>32</td>\n",
       "      <td>u15120</td>\n",
       "      <td>NaN</td>\n",
       "    </tr>\n",
       "    <tr>\n",
       "      <th>3</th>\n",
       "      <td>Cuthbert</td>\n",
       "      <td>50</td>\n",
       "      <td>u823</td>\n",
       "      <td>NaN</td>\n",
       "    </tr>\n",
       "    <tr>\n",
       "      <th>4</th>\n",
       "      <td>Horatius</td>\n",
       "      <td>35</td>\n",
       "      <td>u30125</td>\n",
       "      <td>NaN</td>\n",
       "    </tr>\n",
       "    <tr>\n",
       "      <th>5</th>\n",
       "      <td>Hereward</td>\n",
       "      <td>22</td>\n",
       "      <td>u995</td>\n",
       "      <td>NaN</td>\n",
       "    </tr>\n",
       "    <tr>\n",
       "      <th>6</th>\n",
       "      <td>Bysra</td>\n",
       "      <td>18</td>\n",
       "      <td>u5720</td>\n",
       "      <td>NaN</td>\n",
       "    </tr>\n",
       "  </tbody>\n",
       "</table>\n",
       "</div>"
      ],
      "text/plain": [
       "            name  Unnamed: 2     age  Debt\n",
       "index                                     \n",
       "1       Mearcred          25  u25000   NaN\n",
       "2      Winnifred          32  u15120   NaN\n",
       "3       Cuthbert          50    u823   NaN\n",
       "4       Horatius          35  u30125   NaN\n",
       "5       Hereward          22    u995   NaN\n",
       "6          Bysra          18   u5720   NaN"
      ]
     },
     "execution_count": 3,
     "metadata": {
      "tags": []
     },
     "output_type": "execute_result"
    }
   ],
   "source": [
    "df = pd.read_csv('data/cleaning_data.csv', index_col=0)\n",
    "df"
   ]
  },
  {
   "cell_type": "markdown",
   "metadata": {
    "colab_type": "text",
    "id": "VLcfe6rEC4cT"
   },
   "source": [
    "Well, that looks a little better, but now we have two rows of column titles.  We don't need the index to have a title, so we can remove that with the following command:"
   ]
  },
  {
   "cell_type": "code",
   "execution_count": 0,
   "metadata": {
    "colab": {},
    "colab_type": "code",
    "id": "ePzC6DlJC4cU",
    "outputId": "99eabc55-203b-42af-e626-98b7a9fd93de"
   },
   "outputs": [
    {
     "data": {
      "text/html": [
       "<div>\n",
       "<style scoped>\n",
       "    .dataframe tbody tr th:only-of-type {\n",
       "        vertical-align: middle;\n",
       "    }\n",
       "\n",
       "    .dataframe tbody tr th {\n",
       "        vertical-align: top;\n",
       "    }\n",
       "\n",
       "    .dataframe thead th {\n",
       "        text-align: right;\n",
       "    }\n",
       "</style>\n",
       "<table border=\"1\" class=\"dataframe\">\n",
       "  <thead>\n",
       "    <tr style=\"text-align: right;\">\n",
       "      <th></th>\n",
       "      <th>name</th>\n",
       "      <th>Unnamed: 2</th>\n",
       "      <th>age</th>\n",
       "      <th>Debt</th>\n",
       "    </tr>\n",
       "  </thead>\n",
       "  <tbody>\n",
       "    <tr>\n",
       "      <th>1</th>\n",
       "      <td>Mearcred</td>\n",
       "      <td>25</td>\n",
       "      <td>u25000</td>\n",
       "      <td>NaN</td>\n",
       "    </tr>\n",
       "    <tr>\n",
       "      <th>2</th>\n",
       "      <td>Winnifred</td>\n",
       "      <td>32</td>\n",
       "      <td>u15120</td>\n",
       "      <td>NaN</td>\n",
       "    </tr>\n",
       "    <tr>\n",
       "      <th>3</th>\n",
       "      <td>Cuthbert</td>\n",
       "      <td>50</td>\n",
       "      <td>u823</td>\n",
       "      <td>NaN</td>\n",
       "    </tr>\n",
       "    <tr>\n",
       "      <th>4</th>\n",
       "      <td>Horatius</td>\n",
       "      <td>35</td>\n",
       "      <td>u30125</td>\n",
       "      <td>NaN</td>\n",
       "    </tr>\n",
       "    <tr>\n",
       "      <th>5</th>\n",
       "      <td>Hereward</td>\n",
       "      <td>22</td>\n",
       "      <td>u995</td>\n",
       "      <td>NaN</td>\n",
       "    </tr>\n",
       "    <tr>\n",
       "      <th>6</th>\n",
       "      <td>Bysra</td>\n",
       "      <td>18</td>\n",
       "      <td>u5720</td>\n",
       "      <td>NaN</td>\n",
       "    </tr>\n",
       "  </tbody>\n",
       "</table>\n",
       "</div>"
      ],
      "text/plain": [
       "        name  Unnamed: 2     age  Debt\n",
       "1   Mearcred          25  u25000   NaN\n",
       "2  Winnifred          32  u15120   NaN\n",
       "3   Cuthbert          50    u823   NaN\n",
       "4   Horatius          35  u30125   NaN\n",
       "5   Hereward          22    u995   NaN\n",
       "6      Bysra          18   u5720   NaN"
      ]
     },
     "execution_count": 4,
     "metadata": {
      "tags": []
     },
     "output_type": "execute_result"
    }
   ],
   "source": [
    "df.index.names = [None]\n",
    "df"
   ]
  },
  {
   "cell_type": "markdown",
   "metadata": {
    "colab_type": "text",
    "id": "gYvldTMlC4cY"
   },
   "source": [
    "Now we need to change the column names to more accurately reflect the data present.  We saw we could call columns of a data frame using the ```df.columns``` command:"
   ]
  },
  {
   "cell_type": "code",
   "execution_count": 0,
   "metadata": {
    "colab": {},
    "colab_type": "code",
    "id": "cCRni0QgC4cY",
    "outputId": "a5dcc0bd-64b1-4d2e-a6c2-3035481e102b"
   },
   "outputs": [
    {
     "data": {
      "text/plain": [
       "Index(['name', 'Unnamed: 2', 'age', 'Debt'], dtype='object')"
      ]
     },
     "execution_count": 5,
     "metadata": {
      "tags": []
     },
     "output_type": "execute_result"
    }
   ],
   "source": [
    "df.columns"
   ]
  },
  {
   "cell_type": "markdown",
   "metadata": {
    "colab_type": "text",
    "id": "kKtSF2IUC4cc"
   },
   "source": [
    "But we can use this same command to rename the columns:"
   ]
  },
  {
   "cell_type": "code",
   "execution_count": 0,
   "metadata": {
    "colab": {},
    "colab_type": "code",
    "id": "GpjsbOILC4cc",
    "outputId": "dad114e5-6a4f-4e5b-9ceb-8945c5647588"
   },
   "outputs": [
    {
     "data": {
      "text/html": [
       "<div>\n",
       "<style scoped>\n",
       "    .dataframe tbody tr th:only-of-type {\n",
       "        vertical-align: middle;\n",
       "    }\n",
       "\n",
       "    .dataframe tbody tr th {\n",
       "        vertical-align: top;\n",
       "    }\n",
       "\n",
       "    .dataframe thead th {\n",
       "        text-align: right;\n",
       "    }\n",
       "</style>\n",
       "<table border=\"1\" class=\"dataframe\">\n",
       "  <thead>\n",
       "    <tr style=\"text-align: right;\">\n",
       "      <th></th>\n",
       "      <th>Name</th>\n",
       "      <th>Age</th>\n",
       "      <th>Debt</th>\n",
       "      <th></th>\n",
       "    </tr>\n",
       "  </thead>\n",
       "  <tbody>\n",
       "    <tr>\n",
       "      <th>1</th>\n",
       "      <td>Mearcred</td>\n",
       "      <td>25</td>\n",
       "      <td>u25000</td>\n",
       "      <td>NaN</td>\n",
       "    </tr>\n",
       "    <tr>\n",
       "      <th>2</th>\n",
       "      <td>Winnifred</td>\n",
       "      <td>32</td>\n",
       "      <td>u15120</td>\n",
       "      <td>NaN</td>\n",
       "    </tr>\n",
       "    <tr>\n",
       "      <th>3</th>\n",
       "      <td>Cuthbert</td>\n",
       "      <td>50</td>\n",
       "      <td>u823</td>\n",
       "      <td>NaN</td>\n",
       "    </tr>\n",
       "    <tr>\n",
       "      <th>4</th>\n",
       "      <td>Horatius</td>\n",
       "      <td>35</td>\n",
       "      <td>u30125</td>\n",
       "      <td>NaN</td>\n",
       "    </tr>\n",
       "    <tr>\n",
       "      <th>5</th>\n",
       "      <td>Hereward</td>\n",
       "      <td>22</td>\n",
       "      <td>u995</td>\n",
       "      <td>NaN</td>\n",
       "    </tr>\n",
       "    <tr>\n",
       "      <th>6</th>\n",
       "      <td>Bysra</td>\n",
       "      <td>18</td>\n",
       "      <td>u5720</td>\n",
       "      <td>NaN</td>\n",
       "    </tr>\n",
       "  </tbody>\n",
       "</table>\n",
       "</div>"
      ],
      "text/plain": [
       "        Name  Age    Debt    \n",
       "1   Mearcred   25  u25000 NaN\n",
       "2  Winnifred   32  u15120 NaN\n",
       "3   Cuthbert   50    u823 NaN\n",
       "4   Horatius   35  u30125 NaN\n",
       "5   Hereward   22    u995 NaN\n",
       "6      Bysra   18   u5720 NaN"
      ]
     },
     "execution_count": 6,
     "metadata": {
      "tags": []
     },
     "output_type": "execute_result"
    }
   ],
   "source": [
    "df.columns = ['Name', 'Age', 'Debt', ' ']\n",
    "df"
   ]
  },
  {
   "cell_type": "markdown",
   "metadata": {
    "colab_type": "text",
    "id": "VtB9AGolC4ci"
   },
   "source": [
    "Since the last column is empty, we'll redefine our data frame to only be the columns that have data:"
   ]
  },
  {
   "cell_type": "code",
   "execution_count": 0,
   "metadata": {
    "colab": {},
    "colab_type": "code",
    "id": "Po_fS4FFC4ci",
    "outputId": "bf6ae06f-3f00-4d2d-f794-fa5c8a11efb3"
   },
   "outputs": [
    {
     "name": "stdout",
     "output_type": "stream",
     "text": [
      "<class 'pandas.core.frame.DataFrame'>\n",
      "Int64Index: 6 entries, 1 to 6\n",
      "Data columns (total 3 columns):\n",
      "Name    6 non-null object\n",
      "Age     6 non-null int64\n",
      "Debt    6 non-null object\n",
      "dtypes: int64(1), object(2)\n",
      "memory usage: 192.0+ bytes\n"
     ]
    }
   ],
   "source": [
    "df = df[['Name','Age','Debt']]\n",
    "df\n",
    "df.info()"
   ]
  },
  {
   "cell_type": "markdown",
   "metadata": {
    "colab_type": "text",
    "id": "fxUNhz_OC4cm"
   },
   "source": [
    "This is starting to look better, but the Debt column should be numbers, and currently the data type is not numeric:"
   ]
  },
  {
   "cell_type": "code",
   "execution_count": 0,
   "metadata": {
    "colab": {},
    "colab_type": "code",
    "id": "ghoyajG0C4cn",
    "outputId": "6b1d6cc2-bb4d-4d9e-ff2c-7ae390aba83f"
   },
   "outputs": [
    {
     "data": {
      "text/plain": [
       "1    u25000\n",
       "2    u15120\n",
       "3      u823\n",
       "4    u30125\n",
       "5      u995\n",
       "6     u5720\n",
       "Name: Debt, dtype: object"
      ]
     },
     "execution_count": 8,
     "metadata": {
      "tags": []
     },
     "output_type": "execute_result"
    }
   ],
   "source": [
    "df['Debt']"
   ]
  },
  {
   "cell_type": "markdown",
   "metadata": {
    "colab_type": "text",
    "id": "WTjR9LjaC4cs"
   },
   "source": [
    "So how do we fix this?  Well, Pandas interpreted those data points as strings, so we could just slice out everything from the second character onwards.  Luckily, Pandas provides us with a number of tools to do these things efficiently by vectorizing a lot of common string commands using ```.str```:"
   ]
  },
  {
   "cell_type": "code",
   "execution_count": 0,
   "metadata": {
    "colab": {},
    "colab_type": "code",
    "id": "DCHQxfSPC4cs",
    "outputId": "236fef66-16f9-4af3-cd3f-e04288aefce2"
   },
   "outputs": [
    {
     "data": {
      "text/plain": [
       "1    25000\n",
       "2    15120\n",
       "3      823\n",
       "4    30125\n",
       "5      995\n",
       "6     5720\n",
       "Name: Debt, dtype: object"
      ]
     },
     "execution_count": 9,
     "metadata": {
      "tags": []
     },
     "output_type": "execute_result"
    }
   ],
   "source": [
    "df['Debt'].str[1:]"
   ]
  },
  {
   "cell_type": "markdown",
   "metadata": {
    "colab_type": "text",
    "id": "VKOy88kwC4cw"
   },
   "source": [
    "So turning this column into numbers will be a two-step procedure:  \n",
    "1. We'll redefine the column using this string-parsing method.\n",
    "2. We'll use the Pandas function ```pd.to_numeric()``` change reasonable-looking data into numeric data-types.  "
   ]
  },
  {
   "cell_type": "code",
   "execution_count": 0,
   "metadata": {
    "colab": {},
    "colab_type": "code",
    "id": "o--Z0OBxC4cx",
    "outputId": "7383bd51-98b8-4f53-9df0-8aa536efe07c"
   },
   "outputs": [
    {
     "name": "stderr",
     "output_type": "stream",
     "text": [
      "/Users/angelinapesevski/anaconda3/envs/advanced_bs_tfk/lib/python3.7/site-packages/ipykernel_launcher.py:1: SettingWithCopyWarning: \n",
      "A value is trying to be set on a copy of a slice from a DataFrame.\n",
      "Try using .loc[row_indexer,col_indexer] = value instead\n",
      "\n",
      "See the caveats in the documentation: http://pandas.pydata.org/pandas-docs/stable/indexing.html#indexing-view-versus-copy\n",
      "  \"\"\"Entry point for launching an IPython kernel.\n"
     ]
    },
    {
     "data": {
      "text/html": [
       "<div>\n",
       "<style scoped>\n",
       "    .dataframe tbody tr th:only-of-type {\n",
       "        vertical-align: middle;\n",
       "    }\n",
       "\n",
       "    .dataframe tbody tr th {\n",
       "        vertical-align: top;\n",
       "    }\n",
       "\n",
       "    .dataframe thead th {\n",
       "        text-align: right;\n",
       "    }\n",
       "</style>\n",
       "<table border=\"1\" class=\"dataframe\">\n",
       "  <thead>\n",
       "    <tr style=\"text-align: right;\">\n",
       "      <th></th>\n",
       "      <th>Name</th>\n",
       "      <th>Age</th>\n",
       "      <th>Debt</th>\n",
       "    </tr>\n",
       "  </thead>\n",
       "  <tbody>\n",
       "    <tr>\n",
       "      <th>1</th>\n",
       "      <td>Mearcred</td>\n",
       "      <td>25</td>\n",
       "      <td>25000</td>\n",
       "    </tr>\n",
       "    <tr>\n",
       "      <th>2</th>\n",
       "      <td>Winnifred</td>\n",
       "      <td>32</td>\n",
       "      <td>15120</td>\n",
       "    </tr>\n",
       "    <tr>\n",
       "      <th>3</th>\n",
       "      <td>Cuthbert</td>\n",
       "      <td>50</td>\n",
       "      <td>823</td>\n",
       "    </tr>\n",
       "    <tr>\n",
       "      <th>4</th>\n",
       "      <td>Horatius</td>\n",
       "      <td>35</td>\n",
       "      <td>30125</td>\n",
       "    </tr>\n",
       "    <tr>\n",
       "      <th>5</th>\n",
       "      <td>Hereward</td>\n",
       "      <td>22</td>\n",
       "      <td>995</td>\n",
       "    </tr>\n",
       "    <tr>\n",
       "      <th>6</th>\n",
       "      <td>Bysra</td>\n",
       "      <td>18</td>\n",
       "      <td>5720</td>\n",
       "    </tr>\n",
       "  </tbody>\n",
       "</table>\n",
       "</div>"
      ],
      "text/plain": [
       "        Name  Age   Debt\n",
       "1   Mearcred   25  25000\n",
       "2  Winnifred   32  15120\n",
       "3   Cuthbert   50    823\n",
       "4   Horatius   35  30125\n",
       "5   Hereward   22    995\n",
       "6      Bysra   18   5720"
      ]
     },
     "execution_count": 10,
     "metadata": {
      "tags": []
     },
     "output_type": "execute_result"
    }
   ],
   "source": [
    "df['Debt'] = df['Debt'].str[1:]\n",
    "df"
   ]
  },
  {
   "cell_type": "code",
   "execution_count": 0,
   "metadata": {
    "colab": {},
    "colab_type": "code",
    "id": "lCg5AC9QC4c2",
    "outputId": "4cd9ce02-c7b4-4488-ff2c-5948a79885a0"
   },
   "outputs": [
    {
     "name": "stderr",
     "output_type": "stream",
     "text": [
      "/Users/angelinapesevski/anaconda3/envs/advanced_bs_tfk/lib/python3.7/site-packages/ipykernel_launcher.py:1: SettingWithCopyWarning: \n",
      "A value is trying to be set on a copy of a slice from a DataFrame.\n",
      "Try using .loc[row_indexer,col_indexer] = value instead\n",
      "\n",
      "See the caveats in the documentation: http://pandas.pydata.org/pandas-docs/stable/indexing.html#indexing-view-versus-copy\n",
      "  \"\"\"Entry point for launching an IPython kernel.\n"
     ]
    },
    {
     "data": {
      "text/html": [
       "<div>\n",
       "<style scoped>\n",
       "    .dataframe tbody tr th:only-of-type {\n",
       "        vertical-align: middle;\n",
       "    }\n",
       "\n",
       "    .dataframe tbody tr th {\n",
       "        vertical-align: top;\n",
       "    }\n",
       "\n",
       "    .dataframe thead th {\n",
       "        text-align: right;\n",
       "    }\n",
       "</style>\n",
       "<table border=\"1\" class=\"dataframe\">\n",
       "  <thead>\n",
       "    <tr style=\"text-align: right;\">\n",
       "      <th></th>\n",
       "      <th>Name</th>\n",
       "      <th>Age</th>\n",
       "      <th>Debt</th>\n",
       "    </tr>\n",
       "  </thead>\n",
       "  <tbody>\n",
       "    <tr>\n",
       "      <th>1</th>\n",
       "      <td>Mearcred</td>\n",
       "      <td>25</td>\n",
       "      <td>25000</td>\n",
       "    </tr>\n",
       "    <tr>\n",
       "      <th>2</th>\n",
       "      <td>Winnifred</td>\n",
       "      <td>32</td>\n",
       "      <td>15120</td>\n",
       "    </tr>\n",
       "    <tr>\n",
       "      <th>3</th>\n",
       "      <td>Cuthbert</td>\n",
       "      <td>50</td>\n",
       "      <td>823</td>\n",
       "    </tr>\n",
       "    <tr>\n",
       "      <th>4</th>\n",
       "      <td>Horatius</td>\n",
       "      <td>35</td>\n",
       "      <td>30125</td>\n",
       "    </tr>\n",
       "    <tr>\n",
       "      <th>5</th>\n",
       "      <td>Hereward</td>\n",
       "      <td>22</td>\n",
       "      <td>995</td>\n",
       "    </tr>\n",
       "    <tr>\n",
       "      <th>6</th>\n",
       "      <td>Bysra</td>\n",
       "      <td>18</td>\n",
       "      <td>5720</td>\n",
       "    </tr>\n",
       "  </tbody>\n",
       "</table>\n",
       "</div>"
      ],
      "text/plain": [
       "        Name  Age   Debt\n",
       "1   Mearcred   25  25000\n",
       "2  Winnifred   32  15120\n",
       "3   Cuthbert   50    823\n",
       "4   Horatius   35  30125\n",
       "5   Hereward   22    995\n",
       "6      Bysra   18   5720"
      ]
     },
     "execution_count": 11,
     "metadata": {
      "tags": []
     },
     "output_type": "execute_result"
    }
   ],
   "source": [
    "df['Debt'] = pd.to_numeric(df['Debt'])\n",
    "df"
   ]
  },
  {
   "cell_type": "markdown",
   "metadata": {
    "colab_type": "text",
    "id": "j5ooL-cQC4c6"
   },
   "source": [
    "Now the data set looks a lot cleaner, compared to where we started: the formats are all correct, the column names match the data, and it is properly indexed according to the file.  We could now confidently use this data."
   ]
  },
  {
   "cell_type": "markdown",
   "metadata": {
    "colab_type": "text",
    "id": "Vlo826jtC4c7"
   },
   "source": [
    "### Missing Data\n",
    "\n",
    "One of the most common problems in data cleaning is missing data.  For static data sets, the usual way to deal with missing data is to drop the offending rows (or possible offending columns).  With time-series data, there are a few more options available:  we could sequentially fill the data forwards or backwards, so the index remains consistent.  "
   ]
  },
  {
   "cell_type": "code",
   "execution_count": 0,
   "metadata": {
    "colab": {},
    "colab_type": "code",
    "id": "L-zS1lOvC4c8",
    "outputId": "309dc357-db3b-42fd-e514-2611be8c2cc6",
    "scrolled": true
   },
   "outputs": [
    {
     "data": {
      "text/html": [
       "<div>\n",
       "<style scoped>\n",
       "    .dataframe tbody tr th:only-of-type {\n",
       "        vertical-align: middle;\n",
       "    }\n",
       "\n",
       "    .dataframe tbody tr th {\n",
       "        vertical-align: top;\n",
       "    }\n",
       "\n",
       "    .dataframe thead th {\n",
       "        text-align: right;\n",
       "    }\n",
       "</style>\n",
       "<table border=\"1\" class=\"dataframe\">\n",
       "  <thead>\n",
       "    <tr style=\"text-align: right;\">\n",
       "      <th></th>\n",
       "      <th>Total Hours</th>\n",
       "      <th>Weekly Shifts</th>\n",
       "      <th>Overnight Shift</th>\n",
       "    </tr>\n",
       "  </thead>\n",
       "  <tbody>\n",
       "    <tr>\n",
       "      <th>Siva</th>\n",
       "      <td>12.0</td>\n",
       "      <td>2</td>\n",
       "      <td>N</td>\n",
       "    </tr>\n",
       "    <tr>\n",
       "      <th>J.R.</th>\n",
       "      <td>NaN</td>\n",
       "      <td>3</td>\n",
       "      <td>N</td>\n",
       "    </tr>\n",
       "    <tr>\n",
       "      <th>Nick</th>\n",
       "      <td>8.0</td>\n",
       "      <td>1</td>\n",
       "      <td>Y</td>\n",
       "    </tr>\n",
       "    <tr>\n",
       "      <th>Keisha</th>\n",
       "      <td>14.0</td>\n",
       "      <td>2</td>\n",
       "      <td>N</td>\n",
       "    </tr>\n",
       "    <tr>\n",
       "      <th>Wayne</th>\n",
       "      <td>9.5</td>\n",
       "      <td>1</td>\n",
       "      <td>Y</td>\n",
       "    </tr>\n",
       "    <tr>\n",
       "      <th>Judy</th>\n",
       "      <td>11.0</td>\n",
       "      <td>3</td>\n",
       "      <td>Y</td>\n",
       "    </tr>\n",
       "  </tbody>\n",
       "</table>\n",
       "</div>"
      ],
      "text/plain": [
       "        Total Hours  Weekly Shifts Overnight Shift\n",
       "Siva           12.0              2               N\n",
       "J.R.            NaN              3               N\n",
       "Nick            8.0              1               Y\n",
       "Keisha         14.0              2               N\n",
       "Wayne           9.5              1               Y\n",
       "Judy           11.0              3               Y"
      ]
     },
     "execution_count": 12,
     "metadata": {
      "tags": []
     },
     "output_type": "execute_result"
    }
   ],
   "source": [
    "dfm = pd.DataFrame({'Total Hours':[12,np.NaN,8,14,9.5,11],'Weekly Shifts':[2,3,1,2,1,3],\n",
    "                   'Overnight Shift':['N','N','Y','N','Y','Y',]},index=['Siva','J.R.','Nick','Keisha','Wayne','Judy'])\n",
    "dfm"
   ]
  },
  {
   "cell_type": "markdown",
   "metadata": {
    "colab_type": "text",
    "id": "M0sqtqdWC4c_"
   },
   "source": [
    "From this employee overview, we can see that J.R. worked three shifts, but the total number of hours he worked is missing.  If we could find out from another source the total hours he worked, we could input the correct value with ```dfm.loc[]```.  If we were unable to find out the value, our best bet is to drop his information altogether.  This is accomplished with the ```dataframe.dropna()``` function:"
   ]
  },
  {
   "cell_type": "code",
   "execution_count": 0,
   "metadata": {
    "colab": {},
    "colab_type": "code",
    "id": "YWdEqdq3C4dB",
    "outputId": "a855cc0f-9491-4fcb-c609-7d1aee949d2c"
   },
   "outputs": [
    {
     "data": {
      "text/html": [
       "<div>\n",
       "<style scoped>\n",
       "    .dataframe tbody tr th:only-of-type {\n",
       "        vertical-align: middle;\n",
       "    }\n",
       "\n",
       "    .dataframe tbody tr th {\n",
       "        vertical-align: top;\n",
       "    }\n",
       "\n",
       "    .dataframe thead th {\n",
       "        text-align: right;\n",
       "    }\n",
       "</style>\n",
       "<table border=\"1\" class=\"dataframe\">\n",
       "  <thead>\n",
       "    <tr style=\"text-align: right;\">\n",
       "      <th></th>\n",
       "      <th>Total Hours</th>\n",
       "      <th>Weekly Shifts</th>\n",
       "      <th>Overnight Shift</th>\n",
       "    </tr>\n",
       "  </thead>\n",
       "  <tbody>\n",
       "    <tr>\n",
       "      <th>Siva</th>\n",
       "      <td>12.0</td>\n",
       "      <td>2</td>\n",
       "      <td>N</td>\n",
       "    </tr>\n",
       "    <tr>\n",
       "      <th>Nick</th>\n",
       "      <td>8.0</td>\n",
       "      <td>1</td>\n",
       "      <td>Y</td>\n",
       "    </tr>\n",
       "    <tr>\n",
       "      <th>Keisha</th>\n",
       "      <td>14.0</td>\n",
       "      <td>2</td>\n",
       "      <td>N</td>\n",
       "    </tr>\n",
       "    <tr>\n",
       "      <th>Wayne</th>\n",
       "      <td>9.5</td>\n",
       "      <td>1</td>\n",
       "      <td>Y</td>\n",
       "    </tr>\n",
       "    <tr>\n",
       "      <th>Judy</th>\n",
       "      <td>11.0</td>\n",
       "      <td>3</td>\n",
       "      <td>Y</td>\n",
       "    </tr>\n",
       "  </tbody>\n",
       "</table>\n",
       "</div>"
      ],
      "text/plain": [
       "        Total Hours  Weekly Shifts Overnight Shift\n",
       "Siva           12.0              2               N\n",
       "Nick            8.0              1               Y\n",
       "Keisha         14.0              2               N\n",
       "Wayne           9.5              1               Y\n",
       "Judy           11.0              3               Y"
      ]
     },
     "execution_count": 13,
     "metadata": {
      "tags": []
     },
     "output_type": "execute_result"
    }
   ],
   "source": [
    "dfm.dropna()"
   ]
  },
  {
   "cell_type": "markdown",
   "metadata": {
    "colab_type": "text",
    "id": "2NBy0aWKC4dL"
   },
   "source": [
    "Note: again, this only returns a copy.  If we wanted to change the original, we would either have to redefine the data frame, or include the argument ```inplace=True```.  There are a number of nice features in ```.dropna()```.  Let's create a new data frame with more ```NaN```:"
   ]
  },
  {
   "cell_type": "code",
   "execution_count": 0,
   "metadata": {
    "colab": {},
    "colab_type": "code",
    "id": "siDBd2KCC4dM",
    "outputId": "48eb0b7b-1a35-4aa6-e9b0-158a65d1437c"
   },
   "outputs": [
    {
     "data": {
      "text/html": [
       "<div>\n",
       "<style scoped>\n",
       "    .dataframe tbody tr th:only-of-type {\n",
       "        vertical-align: middle;\n",
       "    }\n",
       "\n",
       "    .dataframe tbody tr th {\n",
       "        vertical-align: top;\n",
       "    }\n",
       "\n",
       "    .dataframe thead th {\n",
       "        text-align: right;\n",
       "    }\n",
       "</style>\n",
       "<table border=\"1\" class=\"dataframe\">\n",
       "  <thead>\n",
       "    <tr style=\"text-align: right;\">\n",
       "      <th></th>\n",
       "      <th>a</th>\n",
       "      <th>b</th>\n",
       "      <th>c</th>\n",
       "      <th>d</th>\n",
       "    </tr>\n",
       "  </thead>\n",
       "  <tbody>\n",
       "    <tr>\n",
       "      <th>0</th>\n",
       "      <td>1</td>\n",
       "      <td>3.0</td>\n",
       "      <td>NaN</td>\n",
       "      <td>NaN</td>\n",
       "    </tr>\n",
       "    <tr>\n",
       "      <th>1</th>\n",
       "      <td>5</td>\n",
       "      <td>NaN</td>\n",
       "      <td>NaN</td>\n",
       "      <td>8.0</td>\n",
       "    </tr>\n",
       "    <tr>\n",
       "      <th>2</th>\n",
       "      <td>2</td>\n",
       "      <td>0.0</td>\n",
       "      <td>NaN</td>\n",
       "      <td>2.0</td>\n",
       "    </tr>\n",
       "    <tr>\n",
       "      <th>3</th>\n",
       "      <td>4</td>\n",
       "      <td>NaN</td>\n",
       "      <td>NaN</td>\n",
       "      <td>3.0</td>\n",
       "    </tr>\n",
       "  </tbody>\n",
       "</table>\n",
       "</div>"
      ],
      "text/plain": [
       "   a    b   c    d\n",
       "0  1  3.0 NaN  NaN\n",
       "1  5  NaN NaN  8.0\n",
       "2  2  0.0 NaN  2.0\n",
       "3  4  NaN NaN  3.0"
      ]
     },
     "execution_count": 14,
     "metadata": {
      "tags": []
     },
     "output_type": "execute_result"
    }
   ],
   "source": [
    "nan = pd.DataFrame({'a':[1,5,2,4],'b':[3,np.NaN,0,np.NaN],'c':[np.NaN,np.NaN,np.NaN,np.NaN],'d':[np.NaN,8,2,3]})\n",
    "nan"
   ]
  },
  {
   "cell_type": "markdown",
   "metadata": {
    "colab_type": "text",
    "id": "3OHUPtFdC4dQ"
   },
   "source": [
    "If we tell ```dropna``` to use ```axis=1``` (columns), we can drop columns where *all* the entries are ```NaN```, or *any* are:"
   ]
  },
  {
   "cell_type": "code",
   "execution_count": 0,
   "metadata": {
    "colab": {},
    "colab_type": "code",
    "id": "wQtqUcRjC4dR",
    "outputId": "eb96437a-3b19-42cc-dff1-5f205ae59fd5"
   },
   "outputs": [
    {
     "data": {
      "text/html": [
       "<div>\n",
       "<style scoped>\n",
       "    .dataframe tbody tr th:only-of-type {\n",
       "        vertical-align: middle;\n",
       "    }\n",
       "\n",
       "    .dataframe tbody tr th {\n",
       "        vertical-align: top;\n",
       "    }\n",
       "\n",
       "    .dataframe thead th {\n",
       "        text-align: right;\n",
       "    }\n",
       "</style>\n",
       "<table border=\"1\" class=\"dataframe\">\n",
       "  <thead>\n",
       "    <tr style=\"text-align: right;\">\n",
       "      <th></th>\n",
       "      <th>a</th>\n",
       "      <th>b</th>\n",
       "      <th>d</th>\n",
       "    </tr>\n",
       "  </thead>\n",
       "  <tbody>\n",
       "    <tr>\n",
       "      <th>0</th>\n",
       "      <td>1</td>\n",
       "      <td>3.0</td>\n",
       "      <td>NaN</td>\n",
       "    </tr>\n",
       "    <tr>\n",
       "      <th>1</th>\n",
       "      <td>5</td>\n",
       "      <td>NaN</td>\n",
       "      <td>8.0</td>\n",
       "    </tr>\n",
       "    <tr>\n",
       "      <th>2</th>\n",
       "      <td>2</td>\n",
       "      <td>0.0</td>\n",
       "      <td>2.0</td>\n",
       "    </tr>\n",
       "    <tr>\n",
       "      <th>3</th>\n",
       "      <td>4</td>\n",
       "      <td>NaN</td>\n",
       "      <td>3.0</td>\n",
       "    </tr>\n",
       "  </tbody>\n",
       "</table>\n",
       "</div>"
      ],
      "text/plain": [
       "   a    b    d\n",
       "0  1  3.0  NaN\n",
       "1  5  NaN  8.0\n",
       "2  2  0.0  2.0\n",
       "3  4  NaN  3.0"
      ]
     },
     "execution_count": 15,
     "metadata": {
      "tags": []
     },
     "output_type": "execute_result"
    }
   ],
   "source": [
    "nan.dropna(axis=1,how='all')"
   ]
  },
  {
   "cell_type": "code",
   "execution_count": 0,
   "metadata": {
    "colab": {},
    "colab_type": "code",
    "id": "Q_cas_5OC4dU",
    "outputId": "1e20aac6-e374-411d-d16f-1a603d9783f8"
   },
   "outputs": [
    {
     "data": {
      "text/html": [
       "<div>\n",
       "<style scoped>\n",
       "    .dataframe tbody tr th:only-of-type {\n",
       "        vertical-align: middle;\n",
       "    }\n",
       "\n",
       "    .dataframe tbody tr th {\n",
       "        vertical-align: top;\n",
       "    }\n",
       "\n",
       "    .dataframe thead th {\n",
       "        text-align: right;\n",
       "    }\n",
       "</style>\n",
       "<table border=\"1\" class=\"dataframe\">\n",
       "  <thead>\n",
       "    <tr style=\"text-align: right;\">\n",
       "      <th></th>\n",
       "      <th>a</th>\n",
       "    </tr>\n",
       "  </thead>\n",
       "  <tbody>\n",
       "    <tr>\n",
       "      <th>0</th>\n",
       "      <td>1</td>\n",
       "    </tr>\n",
       "    <tr>\n",
       "      <th>1</th>\n",
       "      <td>5</td>\n",
       "    </tr>\n",
       "    <tr>\n",
       "      <th>2</th>\n",
       "      <td>2</td>\n",
       "    </tr>\n",
       "    <tr>\n",
       "      <th>3</th>\n",
       "      <td>4</td>\n",
       "    </tr>\n",
       "  </tbody>\n",
       "</table>\n",
       "</div>"
      ],
      "text/plain": [
       "   a\n",
       "0  1\n",
       "1  5\n",
       "2  2\n",
       "3  4"
      ]
     },
     "execution_count": 16,
     "metadata": {
      "tags": []
     },
     "output_type": "execute_result"
    }
   ],
   "source": [
    "nan.dropna(axis=1,how='any')"
   ]
  },
  {
   "cell_type": "markdown",
   "metadata": {
    "colab_type": "text",
    "id": "nyoL5ZmSC4dX"
   },
   "source": [
    "In the first case, only column ```'c'``` had every entry as ```NaN```, so it and only it was dropped. In the second case, every column *except* column ```'a'``` contained ```NaN```, so ```'a'``` was the only column to survive the \"any\" filter.<br>\n",
    "We can also provide a *threshold* for the minimum number of non-```NaN``` values present:"
   ]
  },
  {
   "cell_type": "code",
   "execution_count": 0,
   "metadata": {
    "colab": {},
    "colab_type": "code",
    "id": "fawiDTaDC4dY",
    "outputId": "cd9c7b43-5f00-47d6-ee77-846dedffd5f0",
    "scrolled": true
   },
   "outputs": [
    {
     "data": {
      "text/html": [
       "<div>\n",
       "<style scoped>\n",
       "    .dataframe tbody tr th:only-of-type {\n",
       "        vertical-align: middle;\n",
       "    }\n",
       "\n",
       "    .dataframe tbody tr th {\n",
       "        vertical-align: top;\n",
       "    }\n",
       "\n",
       "    .dataframe thead th {\n",
       "        text-align: right;\n",
       "    }\n",
       "</style>\n",
       "<table border=\"1\" class=\"dataframe\">\n",
       "  <thead>\n",
       "    <tr style=\"text-align: right;\">\n",
       "      <th></th>\n",
       "      <th>a</th>\n",
       "      <th>b</th>\n",
       "      <th>d</th>\n",
       "    </tr>\n",
       "  </thead>\n",
       "  <tbody>\n",
       "    <tr>\n",
       "      <th>0</th>\n",
       "      <td>1</td>\n",
       "      <td>3.0</td>\n",
       "      <td>NaN</td>\n",
       "    </tr>\n",
       "    <tr>\n",
       "      <th>1</th>\n",
       "      <td>5</td>\n",
       "      <td>NaN</td>\n",
       "      <td>8.0</td>\n",
       "    </tr>\n",
       "    <tr>\n",
       "      <th>2</th>\n",
       "      <td>2</td>\n",
       "      <td>0.0</td>\n",
       "      <td>2.0</td>\n",
       "    </tr>\n",
       "    <tr>\n",
       "      <th>3</th>\n",
       "      <td>4</td>\n",
       "      <td>NaN</td>\n",
       "      <td>3.0</td>\n",
       "    </tr>\n",
       "  </tbody>\n",
       "</table>\n",
       "</div>"
      ],
      "text/plain": [
       "   a    b    d\n",
       "0  1  3.0  NaN\n",
       "1  5  NaN  8.0\n",
       "2  2  0.0  2.0\n",
       "3  4  NaN  3.0"
      ]
     },
     "execution_count": 17,
     "metadata": {
      "tags": []
     },
     "output_type": "execute_result"
    }
   ],
   "source": [
    "nan.dropna(axis=1,thresh=2)"
   ]
  },
  {
   "cell_type": "markdown",
   "metadata": {
    "colab_type": "text",
    "id": "41eaVQDEC4dc"
   },
   "source": [
    "The only column to not have 2 non-```NaN``` is column ```'c'```, so it was dropped.<br>\n",
    "If we set ```axis=0``` (or left it out, as it defaults to 0), we'd get a different result:"
   ]
  },
  {
   "cell_type": "code",
   "execution_count": 0,
   "metadata": {
    "colab": {},
    "colab_type": "code",
    "id": "i1jPk0HaC4dc",
    "outputId": "07122511-5a00-411c-9b8e-0c5f4f55f19d"
   },
   "outputs": [
    {
     "data": {
      "text/html": [
       "<div>\n",
       "<style scoped>\n",
       "    .dataframe tbody tr th:only-of-type {\n",
       "        vertical-align: middle;\n",
       "    }\n",
       "\n",
       "    .dataframe tbody tr th {\n",
       "        vertical-align: top;\n",
       "    }\n",
       "\n",
       "    .dataframe thead th {\n",
       "        text-align: right;\n",
       "    }\n",
       "</style>\n",
       "<table border=\"1\" class=\"dataframe\">\n",
       "  <thead>\n",
       "    <tr style=\"text-align: right;\">\n",
       "      <th></th>\n",
       "      <th>a</th>\n",
       "      <th>b</th>\n",
       "      <th>c</th>\n",
       "      <th>d</th>\n",
       "    </tr>\n",
       "  </thead>\n",
       "  <tbody>\n",
       "    <tr>\n",
       "      <th>0</th>\n",
       "      <td>1</td>\n",
       "      <td>3.0</td>\n",
       "      <td>NaN</td>\n",
       "      <td>NaN</td>\n",
       "    </tr>\n",
       "    <tr>\n",
       "      <th>1</th>\n",
       "      <td>5</td>\n",
       "      <td>NaN</td>\n",
       "      <td>NaN</td>\n",
       "      <td>8.0</td>\n",
       "    </tr>\n",
       "    <tr>\n",
       "      <th>2</th>\n",
       "      <td>2</td>\n",
       "      <td>0.0</td>\n",
       "      <td>NaN</td>\n",
       "      <td>2.0</td>\n",
       "    </tr>\n",
       "    <tr>\n",
       "      <th>3</th>\n",
       "      <td>4</td>\n",
       "      <td>NaN</td>\n",
       "      <td>NaN</td>\n",
       "      <td>3.0</td>\n",
       "    </tr>\n",
       "  </tbody>\n",
       "</table>\n",
       "</div>"
      ],
      "text/plain": [
       "   a    b   c    d\n",
       "0  1  3.0 NaN  NaN\n",
       "1  5  NaN NaN  8.0\n",
       "2  2  0.0 NaN  2.0\n",
       "3  4  NaN NaN  3.0"
      ]
     },
     "execution_count": 18,
     "metadata": {
      "tags": []
     },
     "output_type": "execute_result"
    }
   ],
   "source": [
    "nan.dropna(axis=0,thresh=2)"
   ]
  },
  {
   "cell_type": "markdown",
   "metadata": {
    "colab_type": "text",
    "id": "b0Vr7GrRC4dl"
   },
   "source": [
    "Nothing was dropped, because every row has at least two non-```NaN```."
   ]
  },
  {
   "cell_type": "code",
   "execution_count": 0,
   "metadata": {
    "colab": {},
    "colab_type": "code",
    "id": "qOWzPcXrC4dp",
    "outputId": "81309f29-4e5a-421c-db7f-d75a271362ff"
   },
   "outputs": [
    {
     "data": {
      "text/html": [
       "<div>\n",
       "<style scoped>\n",
       "    .dataframe tbody tr th:only-of-type {\n",
       "        vertical-align: middle;\n",
       "    }\n",
       "\n",
       "    .dataframe tbody tr th {\n",
       "        vertical-align: top;\n",
       "    }\n",
       "\n",
       "    .dataframe thead th {\n",
       "        text-align: right;\n",
       "    }\n",
       "</style>\n",
       "<table border=\"1\" class=\"dataframe\">\n",
       "  <thead>\n",
       "    <tr style=\"text-align: right;\">\n",
       "      <th></th>\n",
       "      <th>a</th>\n",
       "      <th>b</th>\n",
       "      <th>c</th>\n",
       "      <th>d</th>\n",
       "    </tr>\n",
       "  </thead>\n",
       "  <tbody>\n",
       "    <tr>\n",
       "      <th>2</th>\n",
       "      <td>2</td>\n",
       "      <td>0.0</td>\n",
       "      <td>NaN</td>\n",
       "      <td>2.0</td>\n",
       "    </tr>\n",
       "  </tbody>\n",
       "</table>\n",
       "</div>"
      ],
      "text/plain": [
       "   a    b   c    d\n",
       "2  2  0.0 NaN  2.0"
      ]
     },
     "execution_count": 19,
     "metadata": {
      "tags": []
     },
     "output_type": "execute_result"
    }
   ],
   "source": [
    "nan.dropna(thresh=3)"
   ]
  },
  {
   "cell_type": "markdown",
   "metadata": {
    "colab_type": "text",
    "id": "ZdBbpvYRC4du"
   },
   "source": [
    "Now let's look at filling forward/backward. Suppose we had a sequence of stock ticks:"
   ]
  },
  {
   "cell_type": "code",
   "execution_count": 0,
   "metadata": {
    "colab": {},
    "colab_type": "code",
    "id": "F_0ffZtbC4du",
    "outputId": "74c78a5f-3b8c-4bd3-f8df-5ca8b9b9791f"
   },
   "outputs": [
    {
     "data": {
      "text/html": [
       "<div>\n",
       "<style scoped>\n",
       "    .dataframe tbody tr th:only-of-type {\n",
       "        vertical-align: middle;\n",
       "    }\n",
       "\n",
       "    .dataframe tbody tr th {\n",
       "        vertical-align: top;\n",
       "    }\n",
       "\n",
       "    .dataframe thead th {\n",
       "        text-align: right;\n",
       "    }\n",
       "</style>\n",
       "<table border=\"1\" class=\"dataframe\">\n",
       "  <thead>\n",
       "    <tr style=\"text-align: right;\">\n",
       "      <th></th>\n",
       "      <th>Price</th>\n",
       "    </tr>\n",
       "  </thead>\n",
       "  <tbody>\n",
       "    <tr>\n",
       "      <th>2017-05-01 09:30:00</th>\n",
       "      <td>54.0</td>\n",
       "    </tr>\n",
       "    <tr>\n",
       "      <th>2017-05-01 09:31:00</th>\n",
       "      <td>55.0</td>\n",
       "    </tr>\n",
       "    <tr>\n",
       "      <th>2017-05-01 09:32:00</th>\n",
       "      <td>52.0</td>\n",
       "    </tr>\n",
       "    <tr>\n",
       "      <th>2017-05-01 09:33:00</th>\n",
       "      <td>NaN</td>\n",
       "    </tr>\n",
       "    <tr>\n",
       "      <th>2017-05-01 09:34:00</th>\n",
       "      <td>57.0</td>\n",
       "    </tr>\n",
       "    <tr>\n",
       "      <th>2017-05-01 09:35:00</th>\n",
       "      <td>55.0</td>\n",
       "    </tr>\n",
       "    <tr>\n",
       "      <th>2017-05-01 09:36:00</th>\n",
       "      <td>54.0</td>\n",
       "    </tr>\n",
       "    <tr>\n",
       "      <th>2017-05-01 09:37:00</th>\n",
       "      <td>59.0</td>\n",
       "    </tr>\n",
       "    <tr>\n",
       "      <th>2017-05-01 09:38:00</th>\n",
       "      <td>51.0</td>\n",
       "    </tr>\n",
       "    <tr>\n",
       "      <th>2017-05-01 09:39:00</th>\n",
       "      <td>NaN</td>\n",
       "    </tr>\n",
       "    <tr>\n",
       "      <th>2017-05-01 09:40:00</th>\n",
       "      <td>NaN</td>\n",
       "    </tr>\n",
       "    <tr>\n",
       "      <th>2017-05-01 09:41:00</th>\n",
       "      <td>55.0</td>\n",
       "    </tr>\n",
       "    <tr>\n",
       "      <th>2017-05-01 09:42:00</th>\n",
       "      <td>52.0</td>\n",
       "    </tr>\n",
       "    <tr>\n",
       "      <th>2017-05-01 09:43:00</th>\n",
       "      <td>56.0</td>\n",
       "    </tr>\n",
       "    <tr>\n",
       "      <th>2017-05-01 09:44:00</th>\n",
       "      <td>60.0</td>\n",
       "    </tr>\n",
       "    <tr>\n",
       "      <th>2017-05-01 09:45:00</th>\n",
       "      <td>61.0</td>\n",
       "    </tr>\n",
       "  </tbody>\n",
       "</table>\n",
       "</div>"
      ],
      "text/plain": [
       "                     Price\n",
       "2017-05-01 09:30:00   54.0\n",
       "2017-05-01 09:31:00   55.0\n",
       "2017-05-01 09:32:00   52.0\n",
       "2017-05-01 09:33:00    NaN\n",
       "2017-05-01 09:34:00   57.0\n",
       "2017-05-01 09:35:00   55.0\n",
       "2017-05-01 09:36:00   54.0\n",
       "2017-05-01 09:37:00   59.0\n",
       "2017-05-01 09:38:00   51.0\n",
       "2017-05-01 09:39:00    NaN\n",
       "2017-05-01 09:40:00    NaN\n",
       "2017-05-01 09:41:00   55.0\n",
       "2017-05-01 09:42:00   52.0\n",
       "2017-05-01 09:43:00   56.0\n",
       "2017-05-01 09:44:00   60.0\n",
       "2017-05-01 09:45:00   61.0"
      ]
     },
     "execution_count": 20,
     "metadata": {
      "tags": []
     },
     "output_type": "execute_result"
    }
   ],
   "source": [
    "times = pd.date_range('2017-05-01 09:30:00','2017-05-01 09:45:00',freq='min')\n",
    "pc = pd.DataFrame({'Price':[54,55,52,np.NaN,57,55,54,59,51,np.NaN,np.NaN,55,52,56,60,61]}, index=times)\n",
    "pc"
   ]
  },
  {
   "cell_type": "code",
   "execution_count": 0,
   "metadata": {
    "colab": {},
    "colab_type": "code",
    "id": "aRybCxYwC4d6"
   },
   "outputs": [],
   "source": [
    "# we'll make a few copies to show different methods\n",
    "pc2 = pc.copy()\n",
    "pc3 = pc.copy()"
   ]
  },
  {
   "cell_type": "markdown",
   "metadata": {
    "colab_type": "text",
    "id": "Xl7q1t4zC4eF"
   },
   "source": [
    "We could simply drop the missing values as we did before, but since this is a sequence of events, we could choose to fill the values with values nearby.  One reason for doing this is to keep the shape of your data the same, i.e.: keep the indices consistent, so there are no missing times.  An important consideration to make when choosing to fill is \"is it reasonable to think the values that are missing are close to the values around it?\"  (e.g.: minute to minute, the prices may be close to each other in value, but end of day prices may vary dramatically depending on the day; it may not be reasonable to fill forward at that level, and simply remove missing data).<br>\n",
    "To fill ```NaN``` values, we use Pandas ```dataframe.fillna()```:`"
   ]
  },
  {
   "cell_type": "code",
   "execution_count": 0,
   "metadata": {
    "colab": {},
    "colab_type": "code",
    "id": "8Hf4ww5-C4eG",
    "outputId": "5f02d0d3-0fea-47d8-a610-93c776963ea6",
    "scrolled": false
   },
   "outputs": [
    {
     "data": {
      "text/html": [
       "<div>\n",
       "<style scoped>\n",
       "    .dataframe tbody tr th:only-of-type {\n",
       "        vertical-align: middle;\n",
       "    }\n",
       "\n",
       "    .dataframe tbody tr th {\n",
       "        vertical-align: top;\n",
       "    }\n",
       "\n",
       "    .dataframe thead th {\n",
       "        text-align: right;\n",
       "    }\n",
       "</style>\n",
       "<table border=\"1\" class=\"dataframe\">\n",
       "  <thead>\n",
       "    <tr style=\"text-align: right;\">\n",
       "      <th></th>\n",
       "      <th>Price</th>\n",
       "    </tr>\n",
       "  </thead>\n",
       "  <tbody>\n",
       "    <tr>\n",
       "      <th>2017-05-01 09:30:00</th>\n",
       "      <td>54.0</td>\n",
       "    </tr>\n",
       "    <tr>\n",
       "      <th>2017-05-01 09:31:00</th>\n",
       "      <td>55.0</td>\n",
       "    </tr>\n",
       "    <tr>\n",
       "      <th>2017-05-01 09:32:00</th>\n",
       "      <td>52.0</td>\n",
       "    </tr>\n",
       "    <tr>\n",
       "      <th>2017-05-01 09:33:00</th>\n",
       "      <td>52.0</td>\n",
       "    </tr>\n",
       "    <tr>\n",
       "      <th>2017-05-01 09:34:00</th>\n",
       "      <td>57.0</td>\n",
       "    </tr>\n",
       "    <tr>\n",
       "      <th>2017-05-01 09:35:00</th>\n",
       "      <td>55.0</td>\n",
       "    </tr>\n",
       "    <tr>\n",
       "      <th>2017-05-01 09:36:00</th>\n",
       "      <td>54.0</td>\n",
       "    </tr>\n",
       "    <tr>\n",
       "      <th>2017-05-01 09:37:00</th>\n",
       "      <td>59.0</td>\n",
       "    </tr>\n",
       "    <tr>\n",
       "      <th>2017-05-01 09:38:00</th>\n",
       "      <td>51.0</td>\n",
       "    </tr>\n",
       "    <tr>\n",
       "      <th>2017-05-01 09:39:00</th>\n",
       "      <td>51.0</td>\n",
       "    </tr>\n",
       "    <tr>\n",
       "      <th>2017-05-01 09:40:00</th>\n",
       "      <td>51.0</td>\n",
       "    </tr>\n",
       "    <tr>\n",
       "      <th>2017-05-01 09:41:00</th>\n",
       "      <td>55.0</td>\n",
       "    </tr>\n",
       "    <tr>\n",
       "      <th>2017-05-01 09:42:00</th>\n",
       "      <td>52.0</td>\n",
       "    </tr>\n",
       "    <tr>\n",
       "      <th>2017-05-01 09:43:00</th>\n",
       "      <td>56.0</td>\n",
       "    </tr>\n",
       "    <tr>\n",
       "      <th>2017-05-01 09:44:00</th>\n",
       "      <td>60.0</td>\n",
       "    </tr>\n",
       "    <tr>\n",
       "      <th>2017-05-01 09:45:00</th>\n",
       "      <td>61.0</td>\n",
       "    </tr>\n",
       "  </tbody>\n",
       "</table>\n",
       "</div>"
      ],
      "text/plain": [
       "                     Price\n",
       "2017-05-01 09:30:00   54.0\n",
       "2017-05-01 09:31:00   55.0\n",
       "2017-05-01 09:32:00   52.0\n",
       "2017-05-01 09:33:00   52.0\n",
       "2017-05-01 09:34:00   57.0\n",
       "2017-05-01 09:35:00   55.0\n",
       "2017-05-01 09:36:00   54.0\n",
       "2017-05-01 09:37:00   59.0\n",
       "2017-05-01 09:38:00   51.0\n",
       "2017-05-01 09:39:00   51.0\n",
       "2017-05-01 09:40:00   51.0\n",
       "2017-05-01 09:41:00   55.0\n",
       "2017-05-01 09:42:00   52.0\n",
       "2017-05-01 09:43:00   56.0\n",
       "2017-05-01 09:44:00   60.0\n",
       "2017-05-01 09:45:00   61.0"
      ]
     },
     "execution_count": 22,
     "metadata": {
      "tags": []
     },
     "output_type": "execute_result"
    }
   ],
   "source": [
    "pc.fillna(method='ffill')"
   ]
  },
  {
   "cell_type": "markdown",
   "metadata": {
    "colab_type": "text",
    "id": "qMLy5IJtC4eM"
   },
   "source": [
    "The method we used here was to fill forward, propagating values ahead in time across missing data.  We could also fill backwards:"
   ]
  },
  {
   "cell_type": "code",
   "execution_count": 0,
   "metadata": {
    "colab": {},
    "colab_type": "code",
    "id": "DOSYHP6dC4eN",
    "outputId": "a29f2531-4717-4143-d1bc-13cfd28ce554"
   },
   "outputs": [
    {
     "data": {
      "text/html": [
       "<div>\n",
       "<style scoped>\n",
       "    .dataframe tbody tr th:only-of-type {\n",
       "        vertical-align: middle;\n",
       "    }\n",
       "\n",
       "    .dataframe tbody tr th {\n",
       "        vertical-align: top;\n",
       "    }\n",
       "\n",
       "    .dataframe thead th {\n",
       "        text-align: right;\n",
       "    }\n",
       "</style>\n",
       "<table border=\"1\" class=\"dataframe\">\n",
       "  <thead>\n",
       "    <tr style=\"text-align: right;\">\n",
       "      <th></th>\n",
       "      <th>Price</th>\n",
       "    </tr>\n",
       "  </thead>\n",
       "  <tbody>\n",
       "    <tr>\n",
       "      <th>2017-05-01 09:30:00</th>\n",
       "      <td>54.0</td>\n",
       "    </tr>\n",
       "    <tr>\n",
       "      <th>2017-05-01 09:31:00</th>\n",
       "      <td>55.0</td>\n",
       "    </tr>\n",
       "    <tr>\n",
       "      <th>2017-05-01 09:32:00</th>\n",
       "      <td>52.0</td>\n",
       "    </tr>\n",
       "    <tr>\n",
       "      <th>2017-05-01 09:33:00</th>\n",
       "      <td>57.0</td>\n",
       "    </tr>\n",
       "    <tr>\n",
       "      <th>2017-05-01 09:34:00</th>\n",
       "      <td>57.0</td>\n",
       "    </tr>\n",
       "    <tr>\n",
       "      <th>2017-05-01 09:35:00</th>\n",
       "      <td>55.0</td>\n",
       "    </tr>\n",
       "    <tr>\n",
       "      <th>2017-05-01 09:36:00</th>\n",
       "      <td>54.0</td>\n",
       "    </tr>\n",
       "    <tr>\n",
       "      <th>2017-05-01 09:37:00</th>\n",
       "      <td>59.0</td>\n",
       "    </tr>\n",
       "    <tr>\n",
       "      <th>2017-05-01 09:38:00</th>\n",
       "      <td>51.0</td>\n",
       "    </tr>\n",
       "    <tr>\n",
       "      <th>2017-05-01 09:39:00</th>\n",
       "      <td>55.0</td>\n",
       "    </tr>\n",
       "    <tr>\n",
       "      <th>2017-05-01 09:40:00</th>\n",
       "      <td>55.0</td>\n",
       "    </tr>\n",
       "    <tr>\n",
       "      <th>2017-05-01 09:41:00</th>\n",
       "      <td>55.0</td>\n",
       "    </tr>\n",
       "    <tr>\n",
       "      <th>2017-05-01 09:42:00</th>\n",
       "      <td>52.0</td>\n",
       "    </tr>\n",
       "    <tr>\n",
       "      <th>2017-05-01 09:43:00</th>\n",
       "      <td>56.0</td>\n",
       "    </tr>\n",
       "    <tr>\n",
       "      <th>2017-05-01 09:44:00</th>\n",
       "      <td>60.0</td>\n",
       "    </tr>\n",
       "    <tr>\n",
       "      <th>2017-05-01 09:45:00</th>\n",
       "      <td>61.0</td>\n",
       "    </tr>\n",
       "  </tbody>\n",
       "</table>\n",
       "</div>"
      ],
      "text/plain": [
       "                     Price\n",
       "2017-05-01 09:30:00   54.0\n",
       "2017-05-01 09:31:00   55.0\n",
       "2017-05-01 09:32:00   52.0\n",
       "2017-05-01 09:33:00   57.0\n",
       "2017-05-01 09:34:00   57.0\n",
       "2017-05-01 09:35:00   55.0\n",
       "2017-05-01 09:36:00   54.0\n",
       "2017-05-01 09:37:00   59.0\n",
       "2017-05-01 09:38:00   51.0\n",
       "2017-05-01 09:39:00   55.0\n",
       "2017-05-01 09:40:00   55.0\n",
       "2017-05-01 09:41:00   55.0\n",
       "2017-05-01 09:42:00   52.0\n",
       "2017-05-01 09:43:00   56.0\n",
       "2017-05-01 09:44:00   60.0\n",
       "2017-05-01 09:45:00   61.0"
      ]
     },
     "execution_count": 23,
     "metadata": {
      "tags": []
     },
     "output_type": "execute_result"
    }
   ],
   "source": [
    "pc2.fillna(method='bfill')"
   ]
  },
  {
   "cell_type": "markdown",
   "metadata": {
    "colab_type": "text",
    "id": "VYapt55pC4eQ"
   },
   "source": [
    "Another piece of functionality is to simply replace all of the missing data with a specific value.  This is similar to the querying we saw with ```.where()```.  If we filled with a blank string:"
   ]
  },
  {
   "cell_type": "code",
   "execution_count": 0,
   "metadata": {
    "colab": {},
    "colab_type": "code",
    "id": "Y-g7vwIaC4eR",
    "outputId": "2e8a781d-5f10-47f9-da87-0e57b0be172e"
   },
   "outputs": [
    {
     "data": {
      "text/html": [
       "<div>\n",
       "<style scoped>\n",
       "    .dataframe tbody tr th:only-of-type {\n",
       "        vertical-align: middle;\n",
       "    }\n",
       "\n",
       "    .dataframe tbody tr th {\n",
       "        vertical-align: top;\n",
       "    }\n",
       "\n",
       "    .dataframe thead th {\n",
       "        text-align: right;\n",
       "    }\n",
       "</style>\n",
       "<table border=\"1\" class=\"dataframe\">\n",
       "  <thead>\n",
       "    <tr style=\"text-align: right;\">\n",
       "      <th></th>\n",
       "      <th>Price</th>\n",
       "    </tr>\n",
       "  </thead>\n",
       "  <tbody>\n",
       "    <tr>\n",
       "      <th>2017-05-01 09:30:00</th>\n",
       "      <td>54</td>\n",
       "    </tr>\n",
       "    <tr>\n",
       "      <th>2017-05-01 09:31:00</th>\n",
       "      <td>55</td>\n",
       "    </tr>\n",
       "    <tr>\n",
       "      <th>2017-05-01 09:32:00</th>\n",
       "      <td>52</td>\n",
       "    </tr>\n",
       "    <tr>\n",
       "      <th>2017-05-01 09:33:00</th>\n",
       "      <td></td>\n",
       "    </tr>\n",
       "    <tr>\n",
       "      <th>2017-05-01 09:34:00</th>\n",
       "      <td>57</td>\n",
       "    </tr>\n",
       "    <tr>\n",
       "      <th>2017-05-01 09:35:00</th>\n",
       "      <td>55</td>\n",
       "    </tr>\n",
       "    <tr>\n",
       "      <th>2017-05-01 09:36:00</th>\n",
       "      <td>54</td>\n",
       "    </tr>\n",
       "    <tr>\n",
       "      <th>2017-05-01 09:37:00</th>\n",
       "      <td>59</td>\n",
       "    </tr>\n",
       "    <tr>\n",
       "      <th>2017-05-01 09:38:00</th>\n",
       "      <td>51</td>\n",
       "    </tr>\n",
       "    <tr>\n",
       "      <th>2017-05-01 09:39:00</th>\n",
       "      <td></td>\n",
       "    </tr>\n",
       "    <tr>\n",
       "      <th>2017-05-01 09:40:00</th>\n",
       "      <td></td>\n",
       "    </tr>\n",
       "    <tr>\n",
       "      <th>2017-05-01 09:41:00</th>\n",
       "      <td>55</td>\n",
       "    </tr>\n",
       "    <tr>\n",
       "      <th>2017-05-01 09:42:00</th>\n",
       "      <td>52</td>\n",
       "    </tr>\n",
       "    <tr>\n",
       "      <th>2017-05-01 09:43:00</th>\n",
       "      <td>56</td>\n",
       "    </tr>\n",
       "    <tr>\n",
       "      <th>2017-05-01 09:44:00</th>\n",
       "      <td>60</td>\n",
       "    </tr>\n",
       "    <tr>\n",
       "      <th>2017-05-01 09:45:00</th>\n",
       "      <td>61</td>\n",
       "    </tr>\n",
       "  </tbody>\n",
       "</table>\n",
       "</div>"
      ],
      "text/plain": [
       "                    Price\n",
       "2017-05-01 09:30:00    54\n",
       "2017-05-01 09:31:00    55\n",
       "2017-05-01 09:32:00    52\n",
       "2017-05-01 09:33:00      \n",
       "2017-05-01 09:34:00    57\n",
       "2017-05-01 09:35:00    55\n",
       "2017-05-01 09:36:00    54\n",
       "2017-05-01 09:37:00    59\n",
       "2017-05-01 09:38:00    51\n",
       "2017-05-01 09:39:00      \n",
       "2017-05-01 09:40:00      \n",
       "2017-05-01 09:41:00    55\n",
       "2017-05-01 09:42:00    52\n",
       "2017-05-01 09:43:00    56\n",
       "2017-05-01 09:44:00    60\n",
       "2017-05-01 09:45:00    61"
      ]
     },
     "execution_count": 24,
     "metadata": {
      "tags": []
     },
     "output_type": "execute_result"
    }
   ],
   "source": [
    "pc2.fillna(value='')"
   ]
  },
  {
   "cell_type": "markdown",
   "metadata": {
    "colab_type": "text",
    "id": "sXVLP_ilC4eW"
   },
   "source": [
    "### Data Scale\n",
    "\n",
    "An often overlooked piece of information in data science and machine learning is the scale of the underlying data. We could have highly engineered models and analysis, but if the data itself lies in hard to work with ranges we probably can't learn anything meaningful. In this section we will look at ensuring our data is in a reasonable to work with range."
   ]
  },
  {
   "cell_type": "markdown",
   "metadata": {
    "colab_type": "text",
    "id": "sAGksG_RC4eW"
   },
   "source": [
    "### The Log Transform\n",
    "\n",
    "Often it is the case the data is spread sparsely over a wide range. This relationship can be hard to asses from a visual standpoint. For example, would you say there is any relation between the following two variables:"
   ]
  },
  {
   "cell_type": "code",
   "execution_count": 0,
   "metadata": {
    "colab": {},
    "colab_type": "code",
    "id": "TcYmP8TtC4eX",
    "outputId": "dbaccf47-a48b-4c54-e812-07c06e135c3b"
   },
   "outputs": [
    {
     "data": {
      "text/plain": [
       "<matplotlib.collections.PathCollection at 0x1a1e47c908>"
      ]
     },
     "execution_count": 25,
     "metadata": {
      "tags": []
     },
     "output_type": "execute_result"
    },
    {
     "data": {
      "image/png": "[encoded data removed]",
      "text/plain": [
       "<Figure size 432x288 with 1 Axes>"
      ]
     },
     "metadata": {
      "needs_background": "light",
      "tags": []
     },
     "output_type": "display_data"
    }
   ],
   "source": [
    "x = np.arange(1,21)\n",
    "y =  (5 * x) + 12 + (np.random.randn(20)*3)\n",
    "\n",
    "y = 1.25**y\n",
    "\n",
    "plt.scatter(x,y)"
   ]
  },
  {
   "cell_type": "markdown",
   "metadata": {
    "colab_type": "text",
    "id": "cmSxrGo6C4eb"
   },
   "source": [
    "Is there a linear a pattern to this data? We could try fitting a linear regression, but just eyeballing it tells us this would probably be a bad fit. Instead we first should bring the data into a more workable range. Notice the scales on the data are huge. \n",
    "\n",
    "Let's actually look at the values contained in $y$:"
   ]
  },
  {
   "cell_type": "code",
   "execution_count": 0,
   "metadata": {
    "colab": {},
    "colab_type": "code",
    "id": "Can4rSm-C4eb",
    "outputId": "448dbeb0-c211-4ef6-a184-bc07ab91552d"
   },
   "outputs": [
    {
     "name": "stdout",
     "output_type": "stream",
     "text": [
      "[6.81825783e+01 6.04504026e+01 1.44171404e+03 3.01918952e+03\n",
      " 2.88947130e+03 9.85696822e+03 1.18927958e+05 7.30284475e+04\n",
      " 2.24154410e+05 1.95779455e+06 5.96608650e+06 5.51980229e+06\n",
      " 1.53933317e+07 8.36436156e+07 1.57571346e+08 1.38027866e+09\n",
      " 3.72782270e+09 1.81674335e+10 1.09948348e+10 8.98860405e+10]\n"
     ]
    }
   ],
   "source": [
    "print(y)"
   ]
  },
  {
   "cell_type": "markdown",
   "metadata": {
    "colab_type": "text",
    "id": "khj8yD6YC4ed"
   },
   "source": [
    "Let's try applying a log to transform the large axis into something more reasonable:"
   ]
  },
  {
   "cell_type": "code",
   "execution_count": 0,
   "metadata": {
    "colab": {},
    "colab_type": "code",
    "id": "HOY3kWvFC4ee",
    "outputId": "6e4f5fd9-a1d2-4c3c-c237-d945dd6be6bc"
   },
   "outputs": [
    {
     "data": {
      "text/plain": [
       "<matplotlib.collections.PathCollection at 0x1a1e5569e8>"
      ]
     },
     "execution_count": 27,
     "metadata": {
      "tags": []
     },
     "output_type": "execute_result"
    },
    {
     "data": {
      "image/png": "[encoded data removed]",
      "text/plain": [
       "<Figure size 432x288 with 1 Axes>"
      ]
     },
     "metadata": {
      "needs_background": "light",
      "tags": []
     },
     "output_type": "display_data"
    }
   ],
   "source": [
    "log_y = np.log(y)\n",
    "\n",
    "plt.scatter(x,log_y)"
   ]
  },
  {
   "cell_type": "markdown",
   "metadata": {
    "colab_type": "text",
    "id": "DnbyhBx-C4eh"
   },
   "source": [
    "This looks a lot more reasonable. There is clearly a linear relation between the two variables, we just had to visualize it in a different space. In general if you have data spread sparsely over a wide range it could be worth attempting a log transform. \n",
    "\n",
    "Some forms of data tend to require log transforms, but this is something where expert knowledge will guide your choices.\n",
    "\n",
    "In retail settings we often see very cheap items (or free samples) have a ton of purchases. But as we increase the price this quickly drops off. The following plot of price vs number of purchases is fairly typical:"
   ]
  },
  {
   "cell_type": "code",
   "execution_count": 0,
   "metadata": {
    "colab": {},
    "colab_type": "code",
    "id": "OPaIs3zdC4ei",
    "outputId": "87c0bb84-e25a-41ca-8dba-843e3df3b3db",
    "scrolled": false
   },
   "outputs": [
    {
     "data": {
      "text/plain": [
       "array([4.98681072e+01, 8.01604896e+00, 2.58456150e+00, 3.59422783e-01,\n",
       "       1.95430328e-01, 1.12309835e-01, 4.30427938e-02, 3.93228893e-03,\n",
       "       6.53847680e-03, 1.52309573e-03, 5.94900911e-04, 1.37749064e-04,\n",
       "       2.28146757e-05, 9.63555712e-06, 8.12909860e-06, 4.03088043e-06,\n",
       "       3.65885205e-07, 1.15607435e-07, 2.18105506e-08, 2.34783175e-08])"
      ]
     },
     "execution_count": 28,
     "metadata": {
      "tags": []
     },
     "output_type": "execute_result"
    },
    {
     "data": {
      "image/png": "[encoded data removed]",
      "text/plain": [
       "<Figure size 432x288 with 1 Axes>"
      ]
     },
     "metadata": {
      "needs_background": "light",
      "tags": []
     },
     "output_type": "display_data"
    }
   ],
   "source": [
    "x = np.arange(1,21)\n",
    "y =  (5 * x) + 12 + (np.random.randn(20)*3)\n",
    "\n",
    "y = 1000*(1 / (1.25**y))\n",
    "\n",
    "plt.scatter(x,y)\n",
    "y"
   ]
  },
  {
   "cell_type": "markdown",
   "metadata": {
    "colab_type": "text",
    "id": "Ia8gtSG-C4el"
   },
   "source": [
    "Fitting a linear model to this would be pointless, look how quickly the purchase rate drops off, it's exponential in its decay. If we instead plot the log of the data:"
   ]
  },
  {
   "cell_type": "code",
   "execution_count": 0,
   "metadata": {
    "colab": {},
    "colab_type": "code",
    "id": "cOizXHw9C4em",
    "outputId": "f89dd6f3-7ec1-46a7-8137-7706dee1ae6d",
    "scrolled": true
   },
   "outputs": [
    {
     "data": {
      "text/plain": [
       "<matplotlib.collections.PathCollection at 0x1a1e6f6cc0>"
      ]
     },
     "execution_count": 29,
     "metadata": {
      "tags": []
     },
     "output_type": "execute_result"
    },
    {
     "data": {
      "image/png": "[encoded data removed]",
      "text/plain": [
       "<Figure size 432x288 with 1 Axes>"
      ]
     },
     "metadata": {
      "needs_background": "light",
      "tags": []
     },
     "output_type": "display_data"
    }
   ],
   "source": [
    "log_y = np.log(y)\n",
    "\n",
    "plt.scatter(x,log_y)"
   ]
  },
  {
   "cell_type": "markdown",
   "metadata": {
    "colab_type": "text",
    "id": "DVj8LJd_C4eq"
   },
   "source": [
    "Often it's the case if our data, look like they follow an exponential grown our decay then we can apply a log transform to get our data back into some workable range."
   ]
  },
  {
   "cell_type": "markdown",
   "metadata": {
    "colab_type": "text",
    "id": "AOwhZOnsC4eq"
   },
   "source": [
    "### MaxMin Scaler\n",
    "\n",
    "When dealing with multiple features we often need to ensure they lie within a comparable range. For example consider the cancer dataset:"
   ]
  },
  {
   "cell_type": "code",
   "execution_count": 0,
   "metadata": {
    "colab": {},
    "colab_type": "code",
    "id": "teWJs9MwC4er",
    "outputId": "842e8185-3a24-4a44-e5d5-2ccb782bec52"
   },
   "outputs": [
    {
     "data": {
      "text/plain": [
       "(569, 30)"
      ]
     },
     "execution_count": 30,
     "metadata": {
      "tags": []
     },
     "output_type": "execute_result"
    }
   ],
   "source": [
    "from sklearn.datasets import load_breast_cancer\n",
    "cancer = load_breast_cancer()\n",
    "data = cancer.data\n",
    "target = cancer.target\n",
    "data.shape"
   ]
  },
  {
   "cell_type": "markdown",
   "metadata": {
    "colab_type": "text",
    "id": "nroZQOSyC4ev"
   },
   "source": [
    "There are thirty features, and many of them are on totally different scales. If we look at the range of values the following feature takes on across all 569 data points we get:"
   ]
  },
  {
   "cell_type": "code",
   "execution_count": 0,
   "metadata": {
    "colab": {},
    "colab_type": "code",
    "id": "iUn7Xdl9C4ev",
    "outputId": "ac2c4beb-f60a-4735-cf83-4b68feb296a9"
   },
   "outputs": [
    {
     "name": "stderr",
     "output_type": "stream",
     "text": [
      "/Users/angelinapesevski/anaconda3/envs/advanced_bs_tfk/lib/python3.7/site-packages/scipy/stats/stats.py:1713: FutureWarning: Using a non-tuple sequence for multidimensional indexing is deprecated; use `arr[tuple(seq)]` instead of `arr[seq]`. In the future this will be interpreted as an array index, `arr[np.array(seq)]`, which will result either in an error or a different result.\n",
      "  return np.add.reduce(sorted[indexer] * weights, axis=axis) / sumval\n"
     ]
    },
    {
     "data": {
      "image/png": "[encoded data removed]",
      "text/plain": [
       "<Figure size 432x288 with 1 Axes>"
      ]
     },
     "metadata": {
      "needs_background": "light",
      "tags": []
     },
     "output_type": "display_data"
    }
   ],
   "source": [
    "x_one=data[:,0]\n",
    "sns.distplot(x_one);"
   ]
  },
  {
   "cell_type": "markdown",
   "metadata": {
    "colab_type": "text",
    "id": "ZQi_iPNuC4e4"
   },
   "source": [
    "While the range of values for another feature looks like:"
   ]
  },
  {
   "cell_type": "code",
   "execution_count": 0,
   "metadata": {
    "colab": {},
    "colab_type": "code",
    "id": "JbKUseLsC4e4",
    "outputId": "693d32c7-ff2c-474c-83bf-38c0b1721b4f"
   },
   "outputs": [
    {
     "data": {
      "image/png": "[encoded data removed]",
      "text/plain": [
       "<Figure size 432x288 with 1 Axes>"
      ]
     },
     "metadata": {
      "needs_background": "light",
      "tags": []
     },
     "output_type": "display_data"
    }
   ],
   "source": [
    "x_two=data[:,14]\n",
    "sns.distplot(x_two);"
   ]
  },
  {
   "cell_type": "markdown",
   "metadata": {
    "colab_type": "text",
    "id": "cYDa-6n0C4e9"
   },
   "source": [
    "Plotting them together we get:"
   ]
  },
  {
   "cell_type": "code",
   "execution_count": 0,
   "metadata": {
    "colab": {},
    "colab_type": "code",
    "id": "ks6BeiY4C4e9",
    "outputId": "b785ae46-461e-4895-d5fa-a7f5da746e21"
   },
   "outputs": [
    {
     "data": {
      "image/png": "[encoded data removed]",
      "text/plain": [
       "<Figure size 432x288 with 1 Axes>"
      ]
     },
     "metadata": {
      "needs_background": "light",
      "tags": []
     },
     "output_type": "display_data"
    }
   ],
   "source": [
    "sns.distplot(x_one);\n",
    "sns.distplot(x_two);"
   ]
  },
  {
   "cell_type": "markdown",
   "metadata": {
    "colab_type": "text",
    "id": "o5RsSPvrC4fA"
   },
   "source": [
    "The feature scales are totally different, one is 1000 times higher than the other! Any model that relies on features being in a similar range would be totally thrown. Thus an important part of preprocessing is scaling the data to look similar. Here we transform each feature so that they lie on a similar range of values. Tools which transform data are into these more reasonable ranges are called scalers."
   ]
  },
  {
   "cell_type": "markdown",
   "metadata": {
    "colab_type": "text",
    "id": "hPegzg90C4fC"
   },
   "source": [
    "Conceptually the simplest scaler is the `MinMaxScaler` found in `preprocessing`. This will transform a feature so that the values lie between $0$ and $1$. if $v$ is the value of a particular feature $x$ then we transform it by applying:\n",
    "\n",
    "$$v^{new} = \\frac{v^{old}-min(x)}{max(x)-min(x)}$$\n",
    "\n",
    "We fit the scaler to the training data and apply the transformation:"
   ]
  },
  {
   "cell_type": "code",
   "execution_count": 0,
   "metadata": {
    "colab": {},
    "colab_type": "code",
    "id": "Sx9PPIrGC4fD"
   },
   "outputs": [],
   "source": [
    "from sklearn import preprocessing\n",
    "\n",
    "scaler = preprocessing.MinMaxScaler()\n",
    "scaler.fit(data)\n",
    "data_min_max = scaler.transform(data)"
   ]
  },
  {
   "cell_type": "markdown",
   "metadata": {
    "colab_type": "text",
    "id": "B1wnXnsHC4fG"
   },
   "source": [
    "If we plot each feature we now see they lie on the same scale."
   ]
  },
  {
   "cell_type": "code",
   "execution_count": 0,
   "metadata": {
    "colab": {},
    "colab_type": "code",
    "id": "v5EtxmCiC4fG",
    "outputId": "bc23945c-1a58-4c98-f57d-9f1e95b7942b"
   },
   "outputs": [
    {
     "name": "stderr",
     "output_type": "stream",
     "text": [
      "/Users/angelinapesevski/anaconda3/envs/advanced_bs_tfk/lib/python3.7/site-packages/scipy/stats/stats.py:1713: FutureWarning: Using a non-tuple sequence for multidimensional indexing is deprecated; use `arr[tuple(seq)]` instead of `arr[seq]`. In the future this will be interpreted as an array index, `arr[np.array(seq)]`, which will result either in an error or a different result.\n",
      "  return np.add.reduce(sorted[indexer] * weights, axis=axis) / sumval\n"
     ]
    },
    {
     "data": {
      "image/png": "[encoded data removed]",
      "text/plain": [
       "<Figure size 432x288 with 1 Axes>"
      ]
     },
     "metadata": {
      "needs_background": "light",
      "tags": []
     },
     "output_type": "display_data"
    }
   ],
   "source": [
    "x_one_scaled = data_min_max[:,0]\n",
    "x_two_scaled = data_min_max[:,14]\n",
    "\n",
    "sns.distplot(x_one_scaled);\n",
    "sns.distplot(x_two_scaled);"
   ]
  },
  {
   "cell_type": "markdown",
   "metadata": {
    "colab_type": "text",
    "id": "9sEM-ynSC4fS"
   },
   "source": [
    "This scaler has just shrunk (or expanded) each feature so that the overall shape is preserved, but the range of values lies between 0 and 1. \n",
    "\n",
    "Does this mean we should just apply this transformation to each feature? Not quite. There are a few drawbacks to the method, and its not guaranteed to help classification. A much more common transformation found in machine learning is the standard transform.  "
   ]
  },
  {
   "cell_type": "markdown",
   "metadata": {
    "colab_type": "text",
    "id": "xhQ9G3TqC4fS"
   },
   "source": [
    "### Standard Scaler\n",
    "\n",
    "While the previous scaler compressed data into a comparable range it didn't impact the underlying shape of the data. The standard scaler actually changes the underlying shape of the feature distribution. First it removes the mean of each feature, this pushes each feature to be centred around 0. It then divides by the variance of each feature. This ensures the variance of each feature, taken over the individual data points, is 1. Formally:\n",
    "\n",
    "$$v^{new} = \\frac{v^{old}-\\mu(x)}{\\sigma(x)}$$\n",
    "\n",
    "\n",
    "Many models we see are built on the assumption the data is centred at 0 and has unit variance for each feature. It can often help to apply a standard scaler to your data. That being said it's not always of use, and sometimes it can hurt performance."
   ]
  },
  {
   "cell_type": "markdown",
   "metadata": {
    "colab_type": "text",
    "id": "gaysnJiUC4fT"
   },
   "source": [
    "Implementing the standard scaler is the same as the previous. If we wanted to scale the cancer data we would just run the following script:"
   ]
  },
  {
   "cell_type": "code",
   "execution_count": 0,
   "metadata": {
    "colab": {},
    "colab_type": "code",
    "id": "QdqRjg6YC4fV"
   },
   "outputs": [],
   "source": [
    "scaler = preprocessing.StandardScaler()\n",
    "scaler.fit(data)\n",
    "standard_data = scaler.transform(data)"
   ]
  },
  {
   "cell_type": "markdown",
   "metadata": {
    "colab_type": "text",
    "id": "5wuKRrP3C4fW"
   },
   "source": [
    "Now we can plot the scaled features together (recall they were totally off before):"
   ]
  },
  {
   "cell_type": "code",
   "execution_count": 0,
   "metadata": {
    "colab": {},
    "colab_type": "code",
    "id": "phMcFUJcC4fX",
    "outputId": "a4df4fe1-2cdf-4b21-96c7-e729f05cd520"
   },
   "outputs": [
    {
     "name": "stderr",
     "output_type": "stream",
     "text": [
      "/Users/angelinapesevski/anaconda3/envs/advanced_bs_tfk/lib/python3.7/site-packages/scipy/stats/stats.py:1713: FutureWarning: Using a non-tuple sequence for multidimensional indexing is deprecated; use `arr[tuple(seq)]` instead of `arr[seq]`. In the future this will be interpreted as an array index, `arr[np.array(seq)]`, which will result either in an error or a different result.\n",
      "  return np.add.reduce(sorted[indexer] * weights, axis=axis) / sumval\n"
     ]
    },
    {
     "data": {
      "image/png": "[encoded data removed]",
      "text/plain": [
       "<Figure size 432x288 with 1 Axes>"
      ]
     },
     "metadata": {
      "needs_background": "light",
      "tags": []
     },
     "output_type": "display_data"
    }
   ],
   "source": [
    "x_one_scaled = standard_data[:,0]\n",
    "x_two_scaled = standard_data[:,14]\n",
    "\n",
    "sns.distplot(x_one_scaled);\n",
    "sns.distplot(x_two_scaled);"
   ]
  },
  {
   "cell_type": "markdown",
   "metadata": {
    "colab_type": "text",
    "id": "weFiRiMiC4fY"
   },
   "source": [
    "Notice the values are no longer bounded between $[0,1]$, they even stretch into the negative range. Furthermore, the distributions now almost lie one top of each other, if you look back at the previous method they were disjoint."
   ]
  },
  {
   "cell_type": "markdown",
   "metadata": {
    "colab_type": "text",
    "id": "Gzy8UvvtC4fa"
   },
   "source": [
    "Let's actually visualize what this scaler is doing with two features. Consider the following dataset:"
   ]
  },
  {
   "cell_type": "code",
   "execution_count": 0,
   "metadata": {
    "colab": {},
    "colab_type": "code",
    "id": "jPozA534C4fa",
    "outputId": "33377cd3-592b-4dcd-c32b-3ea25e38ad78"
   },
   "outputs": [
    {
     "name": "stderr",
     "output_type": "stream",
     "text": [
      "/Users/angelinapesevski/anaconda3/envs/advanced_bs_tfk/lib/python3.7/site-packages/ipykernel_launcher.py:6: RuntimeWarning: covariance is not symmetric positive-semidefinite.\n",
      "  \n"
     ]
    },
    {
     "data": {
      "image/png": "[encoded data removed]",
      "text/plain": [
       "<Figure size 432x288 with 1 Axes>"
      ]
     },
     "metadata": {
      "needs_background": "light",
      "tags": []
     },
     "output_type": "display_data"
    }
   ],
   "source": [
    "#Generate some data\n",
    "points_per_class = 300\n",
    "\n",
    "mean = [4,4]\n",
    "cov = [[1,-2],[-2,1]]\n",
    "x = np.random.multivariate_normal(mean, cov, (points_per_class))\n",
    "y = np.full((points_per_class),0)\n",
    "\n",
    "#Plot\n",
    "fig, ax = plt.subplots()\n",
    "\n",
    "plt.xlim([-10,10])\n",
    "plt.ylim([-10,10])\n",
    "plt.scatter(x[:, 0], x[:, 1], s=20, edgecolor='k')\n",
    "\n",
    "ax.axhline(y=0, color='k')\n",
    "ax.axvline(x=0, color='k')\n",
    "\n",
    "plt.show()"
   ]
  },
  {
   "cell_type": "markdown",
   "metadata": {
    "colab_type": "text",
    "id": "84vf42GsC4fd"
   },
   "source": [
    "It's got a bit of a skew to it and it's in the upper right quadrant of the grid. If we also apply a standard scaler and visualize the results:"
   ]
  },
  {
   "cell_type": "code",
   "execution_count": 0,
   "metadata": {
    "colab": {},
    "colab_type": "code",
    "id": "oYGjir9wC4fd",
    "outputId": "d7e1d983-a75e-47e8-d912-a673f31a56a0"
   },
   "outputs": [
    {
     "data": {
      "image/png": "[encoded data removed]",
      "text/plain": [
       "<Figure size 432x288 with 1 Axes>"
      ]
     },
     "metadata": {
      "needs_background": "light",
      "tags": []
     },
     "output_type": "display_data"
    }
   ],
   "source": [
    "#Transform\n",
    "scaler = preprocessing.StandardScaler()\n",
    "scaler.fit(x)\n",
    "standard_x = scaler.transform(x)\n",
    "\n",
    "#Plot\n",
    "fig, ax = plt.subplots()\n",
    "\n",
    "plt.xlim([-10,10])\n",
    "plt.ylim([-10,10])\n",
    "plt.scatter(x[:, 0], x[:, 1], s=20, edgecolor='k')\n",
    "plt.scatter(standard_x[:, 0], standard_x[:, 1], s=20, edgecolor='k')\n",
    "ax.axhline(y=0, color='k')\n",
    "ax.axvline(x=0, color='k')\n",
    "\n",
    "plt.show()"
   ]
  },
  {
   "cell_type": "markdown",
   "metadata": {
    "colab_type": "text",
    "id": "6gssrlj6C4fg"
   },
   "source": [
    "We see the vertical feature has been squashed a bit. Each individual feature now has a normalized variance, but the overall diagonal skew remains.\n",
    "\n",
    "Scaling does not just squish the data, it can also expand it outwards, consider the following example:"
   ]
  },
  {
   "cell_type": "code",
   "execution_count": 0,
   "metadata": {
    "colab": {},
    "colab_type": "code",
    "id": "zqFwa0dBC4fg",
    "outputId": "e790b091-0047-4811-9f57-dda7409dc5d1"
   },
   "outputs": [
    {
     "data": {
      "image/png": "[encoded data removed]",
      "text/plain": [
       "<Figure size 432x288 with 1 Axes>"
      ]
     },
     "metadata": {
      "needs_background": "light",
      "tags": []
     },
     "output_type": "display_data"
    }
   ],
   "source": [
    "mean = [4,4]\n",
    "cov = [[1/10,0],[0,1/10]]\n",
    "x = np.random.multivariate_normal(mean, cov, (points_per_class))\n",
    "\n",
    "#Transform\n",
    "scaler = preprocessing.StandardScaler()\n",
    "scaler.fit(x)\n",
    "standard_x = scaler.transform(x)\n",
    "\n",
    "#Plot\n",
    "fig, ax = plt.subplots()\n",
    "\n",
    "plt.xlim([-10,10])\n",
    "plt.ylim([-10,10])\n",
    "plt.scatter(x[:, 0], x[:, 1], s=20, edgecolor='k')\n",
    "plt.scatter(standard_x[:, 0], standard_x[:, 1], s=20, edgecolor='k')\n",
    "ax.axhline(y=0, color='k')\n",
    "ax.axvline(x=0, color='k')\n",
    "\n",
    "plt.show()"
   ]
  },
  {
   "cell_type": "markdown",
   "metadata": {
    "colab_type": "text",
    "id": "HPmYsbFxC4fi"
   },
   "source": [
    "### Should I Scale my Data?\n",
    "\n",
    "This is actually somewhat controversial. There are pros and cons to scaling the data:\n",
    "\n",
    "1. Many models based on distance (we will see these in future lectures) rely on data lying in a similar range. \n",
    "2. Many optimization techniques tend to work well with scaled data (we will talk more about this in the advanced week)\n",
    "3. When we scale our data we are removing some interpretability from our models. Let's say we are fitting a linear regression from $X$ to $y$. If we did not scale we could say a feature weight of $\\beta_i$ means an increase in $x_i$ of one unit corresponded to an increase in our prediction by $\\beta_i$. If we scale our data then this interpretation is now more complex, each feature went through a transformation.\n",
    "\n",
    "In machine learning more often than not people tend to scale their data, even if it's not necessary or correct. In reality this is a judgment call, you need to ask what do you need out of your model. You also need to ask what do the underlying features represent.  "
   ]
  },
  {
   "cell_type": "code",
   "execution_count": 0,
   "metadata": {
    "colab": {},
    "colab_type": "code",
    "id": "oqKVoNZsC4fj",
    "outputId": "311dd190-f4ae-40d4-ed1f-9ab3a800892a"
   },
   "outputs": [
    {
     "name": "stderr",
     "output_type": "stream",
     "text": [
      "/Users/angelinapesevski/anaconda3/envs/advanced_bs_tfk/lib/python3.7/site-packages/ipykernel_launcher.py:6: RuntimeWarning: covariance is not symmetric positive-semidefinite.\n",
      "  \n"
     ]
    },
    {
     "data": {
      "image/png": "[encoded data removed]",
      "text/plain": [
       "<Figure size 432x288 with 1 Axes>"
      ]
     },
     "metadata": {
      "needs_background": "light",
      "tags": []
     },
     "output_type": "display_data"
    }
   ],
   "source": [
    "#Generate some data\n",
    "points_per_class = 300\n",
    "\n",
    "mean = [4,4]\n",
    "cov = [[1,-2],[0,1]]\n",
    "x = np.random.multivariate_normal(mean, cov, (points_per_class))\n",
    "y = np.full((points_per_class),0)\n",
    "\n",
    "#Plot\n",
    "fig, ax = plt.subplots()\n",
    "\n",
    "plt.xlim([-10,10])\n",
    "plt.ylim([-10,10])\n",
    "plt.scatter(x[:, 0], x[:, 1], s=20, edgecolor='k')\n",
    "\n",
    "ax.axhline(y=0, color='k')\n",
    "ax.axvline(x=0, color='k')\n",
    "\n",
    "plt.show()"
   ]
  },
  {
   "cell_type": "markdown",
   "metadata": {
    "colab_type": "text",
    "id": "VbzjNtfnC4fn"
   },
   "source": [
    "---\n",
    "#### Exercise 1:\n",
    "\n",
    "1. For the 2D data we transformed with the standard scaler repeat the transformation. But this time use the MaxMin scaler. What does this plot look like? How does it compare to the standerd scaler plot? Try plotting out some of the other scalers that Scikit-Learn provides.\n",
    "2. Using the cancer data set fit a logistic regression model, evaluate the model. Repeat the exercise with the scaled data, try various scalers. What about using a train/test split (50/50). How do you scale the data? Do you scale the train set and test set separately? Do you fit a scaler to each of them? Do you use the train set scaler on the test set? Which of these seems the most reasonable to you?\n",
    "---"
   ]
  },
  {
   "cell_type": "markdown",
   "metadata": {
    "colab_type": "text",
    "id": "brl0l0hsC4fn"
   },
   "source": [
    "### Scale and Regularization\n",
    "\n"
   ]
  },
  {
   "cell_type": "markdown",
   "metadata": {
    "colab_type": "text",
    "id": "BCGQN8L0C4fo"
   },
   "source": [
    "Regressions, logistic and linear, are somewhat immune to changes in data scale. If the range of values for some feature is shrunk down then a model can compensate by having smaller weights, in this case performance will not be impacted. But this is not always the case.\n",
    "\n",
    "Let's actually look at an example where scale impacts the accuracy of our models. Recall in regularization we penalize models which learn to use heavy weight parameters. If the weights we learn in regression must be adjusted for data scale then this can have an impact on model performance.\n",
    "\n",
    "First let's load up two (slightly modified) dimensions of the cancer dataset:"
   ]
  },
  {
   "cell_type": "code",
   "execution_count": 0,
   "metadata": {
    "colab": {},
    "colab_type": "code",
    "id": "Im7_zdLpC4fo"
   },
   "outputs": [],
   "source": [
    "from sklearn.datasets import load_breast_cancer\n",
    "cancer = load_breast_cancer()\n",
    "x = cancer.data\n",
    "y = cancer.target\n",
    "\n",
    "#x = np.stack([x[:,0], x[:,14]],axis=0).T\n",
    "x = np.stack([x[:,0], x[:,14]],axis=1)\n"
   ]
  },
  {
   "cell_type": "markdown",
   "metadata": {
    "colab_type": "text",
    "id": "3iG6L1xDC4ft"
   },
   "source": [
    "Let's fit a logistic regression to the data:"
   ]
  },
  {
   "cell_type": "code",
   "execution_count": 0,
   "metadata": {
    "colab": {},
    "colab_type": "code",
    "id": "AlFQ-OJjC4fu",
    "outputId": "d416ab0e-134a-49d9-e014-d486d91ac458"
   },
   "outputs": [
    {
     "name": "stderr",
     "output_type": "stream",
     "text": [
      "/Users/angelinapesevski/anaconda3/envs/advanced_bs_tfk/lib/python3.7/site-packages/sklearn/linear_model/logistic.py:433: FutureWarning: Default solver will be changed to 'lbfgs' in 0.22. Specify a solver to silence this warning.\n",
      "  FutureWarning)\n"
     ]
    }
   ],
   "source": [
    "from sklearn.linear_model import LogisticRegression\n",
    "\n",
    "my_logreg_model = LogisticRegression(C=0.01).fit(x,y)"
   ]
  },
  {
   "cell_type": "markdown",
   "metadata": {
    "colab_type": "text",
    "id": "lrhrz_r8C4f2"
   },
   "source": [
    "Now let's do the same, but first we scale the data:"
   ]
  },
  {
   "cell_type": "code",
   "execution_count": 0,
   "metadata": {
    "colab": {},
    "colab_type": "code",
    "id": "dLeEi3ZUC4f3",
    "outputId": "c7762df1-565d-4413-bd06-b9e25634e2a4",
    "scrolled": true
   },
   "outputs": [
    {
     "name": "stderr",
     "output_type": "stream",
     "text": [
      "/Users/angelinapesevski/anaconda3/envs/advanced_bs_tfk/lib/python3.7/site-packages/sklearn/linear_model/logistic.py:433: FutureWarning: Default solver will be changed to 'lbfgs' in 0.22. Specify a solver to silence this warning.\n",
      "  FutureWarning)\n"
     ]
    }
   ],
   "source": [
    "cancer = load_breast_cancer()\n",
    "x = cancer.data\n",
    "y = cancer.target\n",
    "\n",
    "x = np.stack([x[:,0], x[:,14]],axis=1)\n",
    "\n",
    "scaler = preprocessing.StandardScaler()\n",
    "scaler.fit(x)\n",
    "x_scaled = scaler.transform(x)\n",
    "\n",
    "my_logreg_model_scaled = LogisticRegression(C=0.01).fit(x_scaled,y)"
   ]
  },
  {
   "cell_type": "markdown",
   "metadata": {
    "colab_type": "text",
    "id": "i737s3-1C4f4"
   },
   "source": [
    "Now let's compare the accuracy of the two models:"
   ]
  },
  {
   "cell_type": "code",
   "execution_count": 0,
   "metadata": {
    "colab": {},
    "colab_type": "code",
    "id": "8wLknCHaC4f5",
    "outputId": "a1a1fa9e-140d-4fd0-a951-853df2bdd854",
    "scrolled": true
   },
   "outputs": [
    {
     "name": "stdout",
     "output_type": "stream",
     "text": [
      "0.648506151142355\n",
      "0.8804920913884007\n"
     ]
    }
   ],
   "source": [
    "print(my_logreg_model.score(x,y))\n",
    "print(my_logreg_model_scaled.score(x_scaled,y))"
   ]
  },
  {
   "cell_type": "markdown",
   "metadata": {
    "colab_type": "text",
    "id": "P104lB3NC4f6"
   },
   "source": [
    "The model fitted to the scaled data did far better. Because of the wide range of values in the unscaled data our regularization really had an impact on the model fitting!"
   ]
  },
  {
   "cell_type": "markdown",
   "metadata": {
    "colab_type": "text",
    "id": "PkHT2pnGC4f7"
   },
   "source": [
    "---\n",
    "#### Exercise 2 :\n",
    "\n",
    "1. Try fitting a logistic regression model to the wine data set from sklearn. Remember that LogisticRegression fits a regularized model by default. Try fitting models on scaled and non-scaled version of the data. Use a train/test split of 0.5. Do you see any difference in performance?\n",
    "\n",
    "2. Repeat the previous exercise using a train test split of (70/30)\n",
    "---"
   ]
  },
  {
   "cell_type": "markdown",
   "metadata": {
    "colab_type": "text",
    "id": "h966GDNRC4f7"
   },
   "source": [
    "<div id=\"container\" style=\"position:relative;\">\n",
    "<div style=\"position:absolute; float:right; left:45px\">© BrainStation Inc. 2017 - 2019\n",
    "This material and all course content is the proprietary intellectual property of BrainStation Inc. and may only <br/> be used by course participants or educators for educational purposes as authorized by BrainStation. Any other use is unauthorized and unlawful. </div>\n",
    "<div style=\"float:left; width:35px\"><img src= \"https://drive.google.com/uc?export=view&id=1CanYUb53J1YjtFm-NPiNIKj3X9Rs61wu\" /></div>\n",
    "</div>"
   ]
  }
 ],
 "metadata": {
  "colab": {
   "collapsed_sections": [
    "sXVLP_ilC4eW",
    "VbzjNtfnC4fn"
   ],
   "name": "Preprocess.ipynb",
   "provenance": [],
   "version": "0.3.2"
  },
  "kernelspec": {
   "display_name": "Python 3",
   "language": "python",
   "name": "python3"
  },
  "language_info": {
   "codemirror_mode": {
    "name": "ipython",
    "version": 3
   },
   "file_extension": ".py",
   "mimetype": "text/x-python",
   "name": "python",
   "nbconvert_exporter": "python",
   "pygments_lexer": "ipython3",
   "version": "3.7.1"
  }
 },
 "nbformat": 4,
 "nbformat_minor": 1
}
